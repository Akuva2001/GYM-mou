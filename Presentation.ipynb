{
 "cells": [
  {
   "cell_type": "markdown",
   "id": "ec422880",
   "metadata": {},
   "source": [
    "# Optimal control course project\n",
    "# Solving the CartPole-v1 problem\n",
    "\n",
    "by **Artem Petrov** and **Ivan Kudriakov**\n",
    "\n",
    "Solving CartPole-v1 from openai.gym using methods of the Optimal Control Theory\n"
   ]
  },
  {
   "cell_type": "markdown",
   "id": "5434e7da-5254-4fa2-b41a-b90567318276",
   "metadata": {},
   "source": [
    "# Step 1 \n",
    "### (March 9, 2022)"
   ]
  },
  {
   "cell_type": "markdown",
   "id": "cdf8682a",
   "metadata": {},
   "source": [
    "## Mathematical model\n",
    "\n",
    "The environment simulation of CartPole-v1 is performed according to the model, described here: https://coneural.org/florian/papers/05_cart_pole.pdf\n",
    "\n",
    "([Proof from the code of CartPole-v1](https://github.com/openai/gym/blob/2dddaf722acccfd0412d745890c40dcd972586d5/gym/envs/classic_control/cartpole.py#L126))\n",
    "\n",
    "Here, I will provide the brief explanation of the model\n",
    "\n",
    "<img src=\"presentation_media/forces_model.png\" alt=\"drawing\" width=\"500\"/>"
   ]
  },
  {
   "cell_type": "markdown",
   "id": "792e0f4f",
   "metadata": {},
   "source": [
    "<!-- Here $G_c$ and $G_p$ are the forces of gravity acting on cart and pole respectively.\n",
    "\n",
    "Here $N_c$ - reaction force and $F_f$ - friction force between the cart and the rail -->\n",
    "\n",
    "Original model considers the friction forces, however in CartPole-v1 there are no friction.\n",
    "\n",
    "<!-- \n",
    "$\\mu_c$ - friction coefficient between the cart and the rail\n",
    "\n",
    "$\\mu_p$ - friction coefficient between the cart and the pole\n",
    "\n",
    "Side note: the initial model assumes Lubricated friction between the pole and the cart which is somewhat counterintuitive. -->\n",
    "\n",
    "From the frictionless Newton equations the following  movement equations can be derived:\n",
    "\n",
    "$$\n",
    "\\ddot{\\theta} = \\frac{g \\sin \\theta + \\cos \\theta \\left( \\frac{- F - m_p l \\dot{\\theta}^2\\sin \\theta}{m_c + m_p} \\right)}\n",
    "{l\\left(\\frac{4}{3} - \\frac{m_p \\cos ^2 \\theta}{m_c + m_p}\\right)}\n",
    "\\label{eq:theta} \\tag{1}\n",
    "$$\n",
    "\n",
    "$$\n",
    "\\ddot{x} = \\frac{F + m_p l\\left(\\dot{\\theta}^2 \\sin \\theta - \\ddot{\\theta}\\cos\\theta\\right)}\n",
    "{m_c + m_p}\n",
    "\\label{eq:x} \\tag{2}\n",
    "$$\n",
    "\n",
    "Where:\n",
    "\n",
    "$m_c$ - the mass of the cart \n",
    "\n",
    "$m_p$ - the mass of the pole \n",
    "\n",
    "$l$ - half-length of the pole\n",
    "\n",
    "$F = \\pm F_0$ - horizontal force applied to the cart by the agent.\n",
    "\n",
    "Interested reader who want to check out the whole inference of the equations above may want to read [the original source](https://coneural.org/florian/papers/05_cart_pole.pdf)\n"
   ]
  },
  {
   "cell_type": "markdown",
   "id": "fd1cefcc",
   "metadata": {},
   "source": [
    "#### Now, let's pose the problem in terms of the optimal control theory.\n",
    "\n",
    "The goal is to keep the pole upright for the longest time. \n",
    "\n",
    "Hence, one might suggests the usage of one the following simple functionals:\n",
    "\n",
    "$$ \n",
    "\\left[\n",
    "\\begin{array}[lll]\n",
    "    .\n",
    "    J_{\\text{1}} = \\int\\limits_{0}^{\\infty} \\theta^2 dt \\rightarrow \\min \\\\\n",
    "    J_{\\text{2}} = \\int\\limits_{0}^{T} \\theta^2 dt \\rightarrow \\min \\\\\n",
    "    J_{\\text{3}} = \\int\\limits_{0}^{T} |\\theta| dt \\rightarrow \\min\n",
    "\\end{array}\n",
    "\\right .\n",
    "$$ \n",
    "\n",
    "\n",
    "However, if we want to optimize for the highest value of the agent's reward function, the following functional must be used:\n",
    "\n",
    "$$ J = T \\rightarrow \\max \\tag{3} $$\n",
    "\n",
    "\n",
    "\n",
    "\n",
    "Let $\\mathbf{q} = (x, \\dot{x}, \\theta, \\dot{\\theta})^T$\n",
    "\n",
    "$F = u F_0$, where $u \\in \\{-1, +1\\}$ - control\n",
    "\n",
    "Then, the dynamic constaraints can be written as follows:\n",
    "\n",
    "$$\\mathbf{\\dot{q}} = \n",
    "\\begin{bmatrix}\n",
    "    \\dot{x} \\\\\n",
    "    \\ddot{x} \\\\\n",
    "    \\dot{\\theta} \\\\\n",
    "    \\ddot{\\theta}\n",
    "\\end{bmatrix} = \n",
    "\\begin{bmatrix}\n",
    "    \\dot{x} \\\\\n",
    "    \\frac{F + m_p l\\left(\\dot{\\theta}^2 \\sin \\theta - \\ddot{\\theta}\\cos\\theta\\right)}{m_c + m_p} \\\\\n",
    "    \\dot{\\theta} \\\\\n",
    "    \\frac{g \\sin \\theta + \\cos \\theta \\left( \\frac{- F - m_p l \\dot{\\theta}^2\\sin \\theta}{m_c + m_p} \\right)}\n",
    "{l\\left(\\frac{4}{3} - \\frac{m_p \\cos ^2 \\theta}{m_c + m_p}\\right)}\n",
    "\\end{bmatrix} = \n",
    "\\begin{bmatrix}\n",
    "    \\dot{x} \\\\\n",
    "    \\frac{uF_0 + m_p l\\left(\\dot{\\theta}^2 \\sin \\theta - \\frac{g \\sin \\theta + \\cos \\theta \\left( \\frac{- uF_0 - m_p l \\dot{\\theta}^2\\sin \\theta}{m_c + m_p} \\right)}\n",
    "{l\\left(\\frac{4}{3} - \\frac{m_p \\cos ^2 \\theta}{m_c + m_p}\\right)}\\cos\\theta\\right)}{m_c + m_p} \\\\\n",
    "    \\dot{\\theta} \\\\\n",
    "    \\frac{g \\sin \\theta + \\cos \\theta \\left( \\frac{- u F_0 - m_p l \\dot{\\theta}^2\\sin \\theta}{m_c + m_p} \\right)}\n",
    "{l\\left(\\frac{4}{3} - \\frac{m_p \\cos ^2 \\theta}{m_c + m_p}\\right)}\n",
    "\\end{bmatrix} = \n",
    "\\mathbf{f}(\\mathbf{q}, u)$$\n",
    "\n",
    "\n",
    "\n",
    "Also, we must consider the fact, that in this particular implementation, the simulation will stop if one of the following conditions is reached:\n",
    "\n",
    "- $|\\theta| > 12^\\circ$  (which contradicts the [frontpage](https://gym.openai.com/envs/CartPole-v1/), but is consistent with the [actual code](https://github.com/openai/gym/blob/2dddaf722acccfd0412d745890c40dcd972586d5/gym/envs/classic_control/cartpole.py#L90))\n",
    "\n",
    "- $|x| > 2.4$\n",
    "\n",
    "- $ t \\le 500\\tau$, where $\\tau = 0.02$sec - is the length of one episode of simulation\n",
    "\n",
    "These conditions can be formulated as the path constraints:\n",
    "\n",
    "$$\n",
    "\\begin{cases}\n",
    "    |q_1| = |x| \\le 2.4\\\\\n",
    "    |q_3| = |\\theta| \\le 12^\\circ \\\\\n",
    "    t \\le 500\\tau\n",
    "\\end{cases} \\tag{4}\n",
    "$$\n",
    "\n",
    "However, because we maximize the time when our trajectory stays within the boundaries of \n",
    "$\\begin{cases}\n",
    "    |q_1| = |x| \\le 2.4\\\\\n",
    "    |q_3| = |\\theta| \\le 12^\\circ\n",
    "\\end{cases}$, the last condition in (4) can be dropped, as the subtrajectory $\\{\\mathbf{q}(t)| t \\in [0,500\\tau]\\}$ of a valid trajectory  $\\{\\mathbf{q}(t) | t \\in [0,T]; T>500\\tau\\}$ will be the optimal solution for this problem/"
   ]
  },
  {
   "cell_type": "markdown",
   "id": "12b77564",
   "metadata": {},
   "source": [
    "#### Parameters of the environment\n",
    "\n",
    "In order to get the model's parameters one can look at [the source code](https://github.com/openai/gym/blob/2dddaf722acccfd0412d745890c40dcd972586d5/gym/envs/classic_control/cartpole.py#L80) of the CartPole-v1 environment.\n",
    "\n",
    "$g = 9.8$\n",
    "\n",
    "$m_c = 1.0$ \n",
    "\n",
    "$m_p = 0.1$\n",
    "\n",
    "$l = 0.5$ \n",
    "\n",
    "$F_0 = 10.0$\n"
   ]
  },
  {
   "cell_type": "markdown",
   "id": "a682bb07-c9cd-4ce1-b778-1e0bdc70c717",
   "metadata": {},
   "source": [
    "# Step 2\n",
    "### (March 16 2022)\n",
    "\n",
    "# LQR solution\n",
    "\n",
    "## What is LQR (Linear–quadratic regulator)?\n",
    "\n",
    "### Reference information (by [Ru Wiki LQR](https://ru.wikipedia.org/wiki/%D0%9B%D0%B8%D0%BD%D0%B5%D0%B9%D0%BD%D0%BE-%D0%BA%D0%B2%D0%B0%D0%B4%D1%80%D0%B0%D1%82%D0%B8%D1%87%D0%BD%D1%8B%D0%B9_%D1%80%D0%B5%D0%B3%D1%83%D0%BB%D1%8F%D1%82%D0%BE%D1%80), [En Wiki LQR](https://en.wikipedia.org/wiki/Linear%E2%80%93quadratic_regulator))\n",
    "\n",
    "If \n",
    "$$\\dot{x} = A(t)x + B(t)u$$ \n",
    "and \n",
    "$$J = \\int\\limits_{0}^\\infty \\left( x^T Q(t) x + u^T R(t) u \\right) dt$$ \n",
    "then optimal control is \n",
    "$$u = -R^{-1} B^T P x$$ \n",
    "when $P$ is solution of Ricatti equation: \n",
    "$$A^T P + P A - P B R^{-1} B^T P + Q = -\\dot{P}$$\n",
    "\n",
    "### At the last seminar we found:\n",
    "\n",
    "$$\\mathbf{\\dot{q}} = \n",
    "\\begin{bmatrix}\n",
    "    \\dot{x} \\\\\n",
    "    \\ddot{x} \\\\\n",
    "    \\dot{\\theta} \\\\\n",
    "    \\ddot{\\theta}\n",
    "\\end{bmatrix} = \n",
    "\\begin{bmatrix}\n",
    "    \\dot{x} \\\\\n",
    "    \\frac{F + m_p l\\left(\\dot{\\theta}^2 \\sin \\theta - \\ddot{\\theta}\\cos\\theta\\right)}{m_c + m_p} \\\\\n",
    "    \\dot{\\theta} \\\\\n",
    "    \\frac{g \\sin \\theta + \\cos \\theta \\left( \\frac{- F - m_p l \\dot{\\theta}^2\\sin \\theta}{m_c + m_p} \\right)}\n",
    "{l\\left(\\frac{4}{3} - \\frac{m_p \\cos ^2 \\theta}{m_c + m_p}\\right)}\n",
    "\\end{bmatrix} = \n",
    "\\begin{bmatrix}\n",
    "    \\dot{x} \\\\\n",
    "    \\frac{uF_0 + m_p l\\left(\\dot{\\theta}^2 \\sin \\theta - \\frac{g \\sin \\theta + \\cos \\theta \\left( \\frac{- uF_0 - m_p l \\dot{\\theta}^2\\sin \\theta}{m_c + m_p} \\right)}\n",
    "{l\\left(\\frac{4}{3} - \\frac{m_p \\cos ^2 \\theta}{m_c + m_p}\\right)}\\cos\\theta\\right)}{m_c + m_p} \\\\\n",
    "    \\dot{\\theta} \\\\\n",
    "    \\frac{g \\sin \\theta + \\cos \\theta \\left( \\frac{- u F_0 - m_p l \\dot{\\theta}^2\\sin \\theta}{m_c + m_p} \\right)}\n",
    "{l\\left(\\frac{4}{3} - \\frac{m_p \\cos ^2 \\theta}{m_c + m_p}\\right)}\n",
    "\\end{bmatrix} = \n",
    "\\mathbf{f}(\\mathbf{q}, u)$$\n",
    "\n",
    "### Linearization around the upper equilibrium of our system:\n",
    "$$\\mathbf{\\dot{q}} = \n",
    "\\begin{bmatrix}\n",
    "    \\dot{x} \\\\\n",
    "    \\ddot{x} \\\\\n",
    "    \\dot{\\theta} \\\\\n",
    "    \\ddot{\\theta}\n",
    "\\end{bmatrix} = \n",
    "\\begin{bmatrix}\n",
    "    0 & 1 & 0 & 0 \\\\\n",
    "    0 & 0 & \\frac{g}{l(\\frac{4}{3} - \\frac{m_p}{m_p+m_c})} & 0 \\\\\n",
    "    0 & 0 & 0 & 1 \\\\\n",
    "    0 & 0 & \\frac{g}{l(\\frac{4}{3} - \\frac{m_p}{m_p+m_c})} & 0 \n",
    "\\end{bmatrix}q + \n",
    "\\begin{bmatrix}\n",
    "    0 \\\\\n",
    "    \\frac{1}{m_p+m_c} \\\\\n",
    "    0 \\\\\n",
    "    -\\frac{1}{l(\\frac{4}{3} - \\frac{m_p}{m_p+m_c})}\n",
    "\\end{bmatrix}u $$\n",
    "\n",
    "\n",
    "$$\\mathbf{\\dot{q}} = A\\mathbf{q}+B\\mathbf{u}$$\n",
    "\n",
    "$$J = \\int\\limits_{0}^\\infty \\left( q^T Q q + u^T R u \\right) dt$$\n",
    "\n",
    "$$\\mathbf{u} = K \\mathbf{q} =  -R^{-1} B^T P \\mathbf{q}$$\n",
    "#### It means, in LQR control $\\mathbf{u}$ is linear function of $\\mathbf{q}$, but in inital problem it is discrete\n",
    "But if you look at the formula, you can see that when constrained to the maximum force, the parameter $R$ conditions the proximity of the selection function $\\mathbf{u}$ to $sign$.\n",
    "\n",
    "#### Code below refers to [Optimal Control with OpenAI Gym](https://towardsdatascience.com/comparing-optimal-control-and-reinforcement-learning-using-the-cart-pole-swing-up-openai-gym-772636bc48f4)"
   ]
  },
  {
   "cell_type": "code",
   "execution_count": 1,
   "id": "7f49910c",
   "metadata": {},
   "outputs": [],
   "source": [
    "import numpy as np\n",
    "\n",
    "g = 9.8\n",
    "lp = 0.5\n",
    "mp = 0.1\n",
    "mc = 1.0\n",
    "mt = mp + mc # m_total\n",
    "\n",
    "\n",
    "# state matrix\n",
    "a = g/(lp*(4.0/3 - mp/mt))\n",
    "A = np.array([[0, 1, 0, 0],\n",
    "              [0, 0, a, 0],\n",
    "              [0, 0, 0, 1],\n",
    "              [0, 0, a, 0]])\n",
    "\n",
    "# input matrix\n",
    "b = -1/(lp*(4.0/3 - mp/mt))\n",
    "B = np.array([[0], [1/mt], [0], [b]])"
   ]
  },
  {
   "cell_type": "code",
   "execution_count": 2,
   "id": "00c09153",
   "metadata": {},
   "outputs": [
    {
     "name": "stdout",
     "output_type": "stream",
     "text": [
      "R = [[1]]\n",
      "Q =\n",
      " [[5 0 0 0]\n",
      " [0 5 0 0]\n",
      " [0 0 5 0]\n",
      " [0 0 0 5]]\n"
     ]
    }
   ],
   "source": [
    "R = np.eye(1, dtype=int)          # choose R (weight for input)\n",
    "print('R =', R)\n",
    "Q = 5*np.eye(4, dtype=int)        # choose Q (weight for state)\n",
    "print('Q =\\n', Q)\n",
    "\n",
    "# get riccati solver\n",
    "from scipy import linalg\n",
    "\n",
    "# solve ricatti equation\n",
    "P = linalg.solve_continuous_are(A, B, Q, R)\n",
    "\n",
    "# calculate optimal controller gain\n",
    "K = np.dot(np.linalg.inv(R),\n",
    "           np.dot(B.T, P))"
   ]
  },
  {
   "cell_type": "code",
   "execution_count": 3,
   "id": "5be9bfe3",
   "metadata": {},
   "outputs": [],
   "source": [
    "def apply_state_controller(K, x):\n",
    "    # feedback controller\n",
    "    u = -np.dot(K, x)   # u = -Kx\n",
    "    if u > 0:\n",
    "        return 1, u     # if force_dem > 0 -> move cart right\n",
    "    else:\n",
    "        return 0, u     # if force_dem <= 0 -> move cart left"
   ]
  },
  {
   "cell_type": "markdown",
   "id": "ec9a155b-b99c-46c8-b9d1-e354291fcd66",
   "metadata": {},
   "source": [
    "### In code below absolute value of force is changing on every step"
   ]
  },
  {
   "cell_type": "code",
   "execution_count": 9,
   "id": "491e7690-91a7-4e39-9ed4-f3d38f00081b",
   "metadata": {},
   "outputs": [
    {
     "name": "stdout",
     "output_type": "stream",
     "text": [
      "Terminated after 200 iterations.\n"
     ]
    }
   ],
   "source": [
    "import gym\n",
    "# get environment\n",
    "env = gym.make('CartPole-v0')\n",
    "obs = env.reset()\n",
    "\n",
    "for i in range(500):\n",
    "    env.render()\n",
    "    \n",
    "    # get force direction (action) and force value (force)\n",
    "    action, force = apply_state_controller(K, obs)\n",
    "    \n",
    "    # absolute value, since 'action' determines the sign, F_min = -10N, F_max = 10N\n",
    "    abs_force = abs(float(np.clip(force, -10, 10)))\n",
    "    \n",
    "    # change magnitute of the applied force in CartPole\n",
    "    env.env.force_mag = abs_force\n",
    "\n",
    "    # apply action\n",
    "    obs, reward, done, _ = env.step(action)\n",
    "    if done:\n",
    "        print(f'Terminated after {i+1} iterations.')\n",
    "        break\n",
    "env.close()"
   ]
  },
  {
   "cell_type": "markdown",
   "id": "34cdafd7-cf6b-450d-a294-9a7a3bf17c5f",
   "metadata": {},
   "source": [
    "### Initially absolute value of force should be constant, so lets test LQR result with constant force"
   ]
  },
  {
   "cell_type": "code",
   "execution_count": 10,
   "id": "6b6a4040-fe9c-4982-a482-ea7fc637307b",
   "metadata": {},
   "outputs": [
    {
     "name": "stdout",
     "output_type": "stream",
     "text": [
      "Terminated after 200 iterations.\n"
     ]
    }
   ],
   "source": [
    "import gym\n",
    "# get environment\n",
    "env = gym.make('CartPole-v0')\n",
    "obs = env.reset()\n",
    "\n",
    "for i in range(500):\n",
    "    env.render()\n",
    "    \n",
    "    # get force direction (action) and force value (force)\n",
    "    action, force = apply_state_controller(K, obs)\n",
    "    \n",
    "    # absolute value, since 'action' determines the sign, F_min = -10N, F_max = 10N\n",
    "    abs_force = abs(float(np.clip(force, -10, 10)))\n",
    "    \n",
    "    # change magnitute of the applied force in CartPole\n",
    "    #env.env.force_mag = abs_force\n",
    "\n",
    "    # apply action\n",
    "    obs, reward, done, _ = env.step(action)\n",
    "    if done:\n",
    "        print(f'Terminated after {i+1} iterations.')\n",
    "        break\n",
    "env.close()"
   ]
  },
  {
   "cell_type": "markdown",
   "id": "182186a3-2db3-48bf-aefe-406c2e30baa9",
   "metadata": {},
   "source": [
    "# PID (proportional–integral–derivative controller)\n",
    "#### Reference by Wiki ([EN](https://en.wikipedia.org/wiki/PID_controller), [RU](https://ru.wikipedia.org/wiki/%D0%9F%D0%98%D0%94-%D1%80%D0%B5%D0%B3%D1%83%D0%BB%D1%8F%D1%82%D0%BE%D1%80))\n",
    "\n",
    "A proportional–integral–derivative controller (PID controller or three-term controller) is a control loop mechanism employing feedback that is widely used in industrial control systems and a variety of other applications requiring continuously modulated control. A PID controller continuously calculates an error value $e(t)$ as the difference between a desired setpoint (SP) and a measured process variable (PV) and applies a correction based on proportional, integral, and derivative terms (denoted P, I, and D respectively), hence the name.\n",
    "\n",
    "\n",
    "$$u(t) = K_\\text{p} e(t) + K_\\text{i} \\int_0^t e(\\tau) \\,\\mathrm{d}\\tau + K_\\text{d} \\frac{\\mathrm{d}e(t)}{\\mathrm{d}t}$$\n",
    "\n",
    "#### Cart-Pole problem\n",
    "Target value is $\\theta=0$\n",
    "$$u(t) = P\\theta + I\\int \\theta + D \\dot{\\theta}$$\n",
    "\n",
    "In our model we use sign of original control"
   ]
  },
  {
   "cell_type": "code",
   "execution_count": 11,
   "id": "dbb0299c-c984-4bf0-a4f9-c9f36f4061b3",
   "metadata": {},
   "outputs": [
    {
     "name": "stdout",
     "output_type": "stream",
     "text": [
      "Episode finished after 500 timesteps\n",
      "Episode finished after 500 timesteps\n",
      "Episode finished after 500 timesteps\n",
      "Episode finished after 500 timesteps\n",
      "Episode finished after 500 timesteps\n"
     ]
    }
   ],
   "source": [
    "import numpy as np\n",
    "import gym\n",
    "\n",
    "env = gym.make('CartPole-v1')\n",
    "\n",
    "P, I, D = 1, 1, 1\n",
    "tau = 0.02\n",
    "\n",
    "for i_episode in range(5):\n",
    "    state = env.reset()\n",
    "    integral = 0\n",
    "    derivative = 0\n",
    "    prev_error = 0\n",
    "    for t in range(500):\n",
    "        env.render()\n",
    "        integral += state[2] * tau\n",
    "        derivative = state[3]\n",
    "        error = state[2]\n",
    "        res = I * integral + D * derivative + P * error\n",
    "        if res>0:\n",
    "            action = 1\n",
    "        else:\n",
    "            action = 0\n",
    "\n",
    "        state, reward, done, info = env.step(action)\n",
    "        if done:\n",
    "            print(\"Episode finished after {} timesteps\".format(t+1))\n",
    "            break\n",
    "env.close()"
   ]
  },
  {
   "cell_type": "code",
   "execution_count": 12,
   "id": "7a599d12-99fc-40da-a199-3bc45eb0e380",
   "metadata": {},
   "outputs": [
    {
     "name": "stdout",
     "output_type": "stream",
     "text": [
      "Episode finished after 500 timesteps\n",
      "Episode finished after 500 timesteps\n",
      "Episode finished after 500 timesteps\n",
      "Episode finished after 500 timesteps\n",
      "Episode finished after 500 timesteps\n"
     ]
    }
   ],
   "source": [
    "import numpy as np\n",
    "import gym\n",
    "\n",
    "env = gym.make('CartPole-v1')\n",
    "\n",
    "P, I, D = 1, 0, 1\n",
    "tau = 0.02\n",
    "\n",
    "for i_episode in range(5):\n",
    "    state = env.reset()\n",
    "    integral = 0\n",
    "    derivative = 0\n",
    "    prev_error = 0\n",
    "    for t in range(500):\n",
    "        env.render()\n",
    "        integral += state[2] * tau\n",
    "        derivative = state[3]\n",
    "        error = state[2]\n",
    "        res = I * integral + D * derivative + P * error\n",
    "        if res>0:\n",
    "            action = 1\n",
    "        else:\n",
    "            action = 0\n",
    "\n",
    "        state, reward, done, info = env.step(action)\n",
    "        if done:\n",
    "            print(\"Episode finished after {} timesteps\".format(t+1))\n",
    "            break\n",
    "env.close()"
   ]
  },
  {
   "cell_type": "markdown",
   "id": "5195cf21-1da7-466f-9826-3580b1b87289",
   "metadata": {},
   "source": [
    "### Conclusion\n",
    "Maybe this way can lead us to a good result, but it requires the selection of coefficients. These coefficients I tried are not bad, but there is often drift in the x-coordinate"
   ]
  },
  {
   "cell_type": "markdown",
   "id": "b2aa5756-fa9e-4e70-8977-9d3077eebf20",
   "metadata": {},
   "source": [
    "### Optimization of cofficients"
   ]
  },
  {
   "cell_type": "code",
   "execution_count": 1,
   "id": "80627110-725d-44e5-be98-a524cbf984f8",
   "metadata": {},
   "outputs": [],
   "source": [
    "import numpy as np\n",
    "import matplotlib.pyplot as plt\n",
    "import gym\n",
    "\n",
    "env = gym.make('CartPole-v1')"
   ]
  },
  {
   "cell_type": "code",
   "execution_count": 35,
   "id": "627d2b33-b35e-49c7-9969-b27405f2cf69",
   "metadata": {},
   "outputs": [],
   "source": [
    "def PID_opt_fun(P, I, D):\n",
    "    tau = 0.02\n",
    "    N = 0 # number of attempt\n",
    "    x = []\n",
    "    theta = []\n",
    "    state = env.reset()\n",
    "    integral = 0\n",
    "    derivative = 0\n",
    "    prev_error = 0\n",
    "    for t in range(500):\n",
    "        env.render()\n",
    "        x.append(state[0])\n",
    "        theta.append(state[2])\n",
    "        if (N == 0 and abs(state[0]) > 0.5):\n",
    "            N = t\n",
    "            break\n",
    "        integral += state[2] * tau\n",
    "        derivative = state[3]\n",
    "        error = state[2]\n",
    "        res = I * integral + D * derivative + P * error\n",
    "        \n",
    "        abs_force = abs(float(np.clip(res, -10, 10)))\n",
    "    \n",
    "        # change magnitute of the applied force in CartPole\n",
    "        env.env.force_mag = abs_force\n",
    "        if res>0:\n",
    "            action = 1\n",
    "        else:\n",
    "            action = 0\n",
    "\n",
    "        state, reward, done, info = env.step(action)\n",
    "        if done:\n",
    "            #print(\"Episode finished after {} timesteps\".format(t+1))\n",
    "            break\n",
    "    return x, theta, N"
   ]
  },
  {
   "cell_type": "code",
   "execution_count": 107,
   "id": "b8312b44-8ffd-44ae-bdd2-6b6876376679",
   "metadata": {},
   "outputs": [],
   "source": [
    "def plot_result(x, theta, N):\n",
    "    B = 500\n",
    "    plt.plot(range(min(len(x), B)), x[:min(len(x), B)], label= \"x\")\n",
    "    plt.plot(range(min(len(theta), B)), theta[:min(len(theta), B)], label= \"theta\")\n",
    "    #plt.plot(timestamp, aver, label= \"Average, mcs\")\n",
    "    #plt.plot(timestamp, disp, label= \"Dispercy, ?\")\n",
    "    plt.grid(True)\n",
    "    plt.legend()\n",
    "    #plt.axis([timestamp[0], timestamp[-1], 0, max([max(aver), max(clients), max(diff)])*1.1])\n",
    "    #plt.ylabel(\"Request processing time, mcs\")\n",
    "    plt.xlabel(\"Timestamp\")\n",
    "    plt.title(\"PID\")\n",
    "\n",
    "    #plt.savefig(\"plot.png\", fmt= \"png\")\n",
    "    plt.show()\n"
   ]
  },
  {
   "cell_type": "code",
   "execution_count": 37,
   "id": "6f7532c4-b35b-4c87-a6b9-a2b40d395692",
   "metadata": {},
   "outputs": [
    {
     "data": {
      "image/png": "[encoded data removed]",
      "text/plain": [
       "<Figure size 432x288 with 1 Axes>"
      ]
     },
     "metadata": {
      "needs_background": "light"
     },
     "output_type": "display_data"
    }
   ],
   "source": [
    "x, theta, N = PID_opt_fun(1, 0.002, 0.064)\n",
    "plot_result(x, theta, N)"
   ]
  },
  {
   "cell_type": "code",
   "execution_count": 38,
   "id": "10f2c68d-74b7-4437-a6e7-0489338b90f7",
   "metadata": {},
   "outputs": [
    {
     "data": {
      "image/png": "[encoded data removed]",
      "text/plain": [
       "<Figure size 432x288 with 1 Axes>"
      ]
     },
     "metadata": {
      "needs_background": "light"
     },
     "output_type": "display_data"
    }
   ],
   "source": [
    "x, theta, N = PID_opt_fun(1, 2.0, 0.25)\n",
    "plot_result(x, theta, N)"
   ]
  },
  {
   "cell_type": "code",
   "execution_count": 44,
   "id": "0eda2604-addc-4b94-bc8b-7b02c3e07121",
   "metadata": {},
   "outputs": [
    {
     "data": {
      "image/png": "[encoded data removed]",
      "text/plain": [
       "<Figure size 432x288 with 1 Axes>"
      ]
     },
     "metadata": {
      "needs_background": "light"
     },
     "output_type": "display_data"
    }
   ],
   "source": [
    "x, theta, N = PID_opt_fun(300, 1, 10)\n",
    "plot_result(x, theta, N)"
   ]
  },
  {
   "cell_type": "code",
   "execution_count": 73,
   "id": "6473ca14-8462-4adb-9b21-7ee7a55a63e8",
   "metadata": {},
   "outputs": [
    {
     "data": {
      "image/png": "[encoded data removed]",
      "text/plain": [
       "<Figure size 432x288 with 1 Axes>"
      ]
     },
     "metadata": {
      "needs_background": "light"
     },
     "output_type": "display_data"
    }
   ],
   "source": [
    "x, theta, N = PID_opt_fun(400, 1, 30)\n",
    "plot_result(x, theta, N)"
   ]
  },
  {
   "cell_type": "code",
   "execution_count": 74,
   "id": "870d048c-3883-43da-93a3-d3aa48024c6f",
   "metadata": {},
   "outputs": [
    {
     "data": {
      "image/png": "[encoded data removed]",
      "text/plain": [
       "<Figure size 432x288 with 1 Axes>"
      ]
     },
     "metadata": {
      "needs_background": "light"
     },
     "output_type": "display_data"
    }
   ],
   "source": [
    "x, theta, N = PID_opt_fun(400, 0, 30)\n",
    "plot_result(x, theta, N)"
   ]
  },
  {
   "cell_type": "code",
   "execution_count": 80,
   "id": "c1b7d38a-bd10-4655-8399-666bc00a254a",
   "metadata": {},
   "outputs": [
    {
     "data": {
      "image/png": "[encoded data removed]",
      "text/plain": [
       "<Figure size 432x288 with 1 Axes>"
      ]
     },
     "metadata": {
      "needs_background": "light"
     },
     "output_type": "display_data"
    }
   ],
   "source": [
    "x, theta, N = PID_opt_fun(400, 10, 40)\n",
    "plot_result(x, theta, N)"
   ]
  },
  {
   "cell_type": "code",
   "execution_count": 81,
   "id": "8a1d8b1f-c547-48e5-9227-0f9590485081",
   "metadata": {},
   "outputs": [
    {
     "data": {
      "image/png": "[encoded data removed]",
      "text/plain": [
       "<Figure size 432x288 with 1 Axes>"
      ]
     },
     "metadata": {
      "needs_background": "light"
     },
     "output_type": "display_data"
    }
   ],
   "source": [
    "x, theta, N = PID_opt_fun(400, 1, 40)\n",
    "plot_result(x, theta, N)"
   ]
  },
  {
   "cell_type": "code",
   "execution_count": 82,
   "id": "ad0fbe5f-bca4-49c1-8c0a-a3dd8562122c",
   "metadata": {},
   "outputs": [
    {
     "data": {
      "image/png": "[encoded data removed]",
      "text/plain": [
       "<Figure size 432x288 with 1 Axes>"
      ]
     },
     "metadata": {
      "needs_background": "light"
     },
     "output_type": "display_data"
    }
   ],
   "source": [
    "x, theta, N = PID_opt_fun(400, 0.5, 40)\n",
    "plot_result(x, theta, N)"
   ]
  },
  {
   "cell_type": "code",
   "execution_count": 91,
   "id": "b3c21dbb-71c0-4d83-a021-7a58a35ef3f6",
   "metadata": {},
   "outputs": [
    {
     "data": {
      "image/png": "[encoded data removed]",
      "text/plain": [
       "<Figure size 432x288 with 1 Axes>"
      ]
     },
     "metadata": {
      "needs_background": "light"
     },
     "output_type": "display_data"
    }
   ],
   "source": [
    "x, theta, N = PID_opt_fun(400, 0.5, 25)\n",
    "plot_result(x, theta, N)"
   ]
  },
  {
   "cell_type": "code",
   "execution_count": 140,
   "id": "a3970c37-1ed8-4605-bf32-717980282bc0",
   "metadata": {},
   "outputs": [
    {
     "data": {
      "image/png": "[encoded data removed]",
      "text/plain": [
       "<Figure size 432x288 with 1 Axes>"
      ]
     },
     "metadata": {
      "needs_background": "light"
     },
     "output_type": "display_data"
    }
   ],
   "source": [
    "x, theta, N = PID_opt_fun(400, 0.5, 26)\n",
    "plot_result(x, theta, N)"
   ]
  },
  {
   "cell_type": "code",
   "execution_count": 142,
   "id": "a755494e-ab09-4bcc-9308-f207df0aabe6",
   "metadata": {},
   "outputs": [
    {
     "data": {
      "image/png": "[encoded data removed]",
      "text/plain": [
       "<Figure size 432x288 with 1 Axes>"
      ]
     },
     "metadata": {
      "needs_background": "light"
     },
     "output_type": "display_data"
    }
   ],
   "source": [
    "x, theta, N = PID_opt_fun(400, 0.5, 20)\n",
    "plot_result(x, theta, N)"
   ]
  },
  {
   "cell_type": "code",
   "execution_count": 144,
   "id": "8fd4c289-9a70-439c-a86a-39c9e6b11463",
   "metadata": {},
   "outputs": [],
   "source": [
    "def PID_opt_fun_withX(P, I, D, pp, ii, dd):\n",
    "    tau = 0.02\n",
    "    N = 0 # number of attempt\n",
    "    x = []\n",
    "    theta = []\n",
    "    state = env.reset()\n",
    "    integral = 0\n",
    "    derivative = 0\n",
    "    prev_error = 0\n",
    "    for t in range(500):\n",
    "        env.render()\n",
    "        x.append(state[0])\n",
    "        theta.append(state[2])\n",
    "        if (N == 0 and abs(state[0]) > 0.5):\n",
    "            N = t\n",
    "            break\n",
    "        integral += state[2] * tau + state[0]*ii\n",
    "        derivative = state[3] + state[1]*dd\n",
    "        error = state[2] + state[0]*pp\n",
    "        res = I * integral + D * derivative + P * error\n",
    "        \n",
    "        abs_force = abs(float(np.clip(res, -10, 10)))\n",
    "    \n",
    "        # change magnitute of the applied force in CartPole\n",
    "        env.env.force_mag = abs_force\n",
    "        if res>0:\n",
    "            action = 1\n",
    "        else:\n",
    "            action = 0\n",
    "\n",
    "        state, reward, done, info = env.step(action)\n",
    "        if done:\n",
    "            #print(\"Episode finished after {} timesteps\".format(t+1))\n",
    "            break\n",
    "    return x, theta, N"
   ]
  },
  {
   "cell_type": "code",
   "execution_count": 150,
   "id": "9d69b6c6-e458-411b-ab13-57570dfd21e6",
   "metadata": {},
   "outputs": [
    {
     "data": {
      "image/png": "[encoded data removed]",
      "text/plain": [
       "<Figure size 432x288 with 1 Axes>"
      ]
     },
     "metadata": {
      "needs_background": "light"
     },
     "output_type": "display_data"
    }
   ],
   "source": [
    "x, theta, N = PID_opt_fun_withX(400, 0.5, 26, 0.5, 1, 1)\n",
    "plot_result(x, theta, N)"
   ]
  },
  {
   "cell_type": "code",
   "execution_count": 151,
   "id": "9c41a089-5dcd-4156-99b5-c9ad4f9942a7",
   "metadata": {},
   "outputs": [
    {
     "data": {
      "image/png": "[encoded data removed]",
      "text/plain": [
       "<Figure size 432x288 with 1 Axes>"
      ]
     },
     "metadata": {
      "needs_background": "light"
     },
     "output_type": "display_data"
    }
   ],
   "source": [
    "x, theta, N = PID_opt_fun_withX(400, 0.5, 26, 0.1, 1, 1)\n",
    "plot_result(x, theta, N)"
   ]
  },
  {
   "cell_type": "code",
   "execution_count": 154,
   "id": "5281f541-59fd-4dd7-98e3-654754656954",
   "metadata": {},
   "outputs": [
    {
     "data": {
      "image/png": "[encoded data removed]",
      "text/plain": [
       "<Figure size 432x288 with 1 Axes>"
      ]
     },
     "metadata": {
      "needs_background": "light"
     },
     "output_type": "display_data"
    }
   ],
   "source": [
    "x, theta, N = PID_opt_fun_withX(400, 0.4, 26, 0.5, 1, 1)\n",
    "plot_result(x, theta, N)"
   ]
  },
  {
   "cell_type": "code",
   "execution_count": 156,
   "id": "7f26c954-e7ca-446c-affc-6a2bc0e89c5b",
   "metadata": {},
   "outputs": [
    {
     "data": {
      "image/png": "[encoded data removed]",
      "text/plain": [
       "<Figure size 432x288 with 1 Axes>"
      ]
     },
     "metadata": {
      "needs_background": "light"
     },
     "output_type": "display_data"
    }
   ],
   "source": [
    "x, theta, N = PID_opt_fun_withX(500, 0.4, 40, 0.5, 1, 1)\n",
    "plot_result(x, theta, N)"
   ]
  },
  {
   "cell_type": "code",
   "execution_count": 157,
   "id": "694c1752-1d27-4123-97a2-73644738a2d8",
   "metadata": {},
   "outputs": [
    {
     "data": {
      "image/png": "[encoded data removed]",
      "text/plain": [
       "<Figure size 432x288 with 1 Axes>"
      ]
     },
     "metadata": {
      "needs_background": "light"
     },
     "output_type": "display_data"
    }
   ],
   "source": [
    "x, theta, N = PID_opt_fun_withX(500, 0.4, 60, 0.5, 1, 1)\n",
    "plot_result(x, theta, N)"
   ]
  },
  {
   "cell_type": "code",
   "execution_count": 162,
   "id": "cbc13855-fce3-4ff5-9af8-0b9860e89d94",
   "metadata": {},
   "outputs": [
    {
     "data": {
      "image/png": "[encoded data removed]",
      "text/plain": [
       "<Figure size 432x288 with 1 Axes>"
      ]
     },
     "metadata": {
      "needs_background": "light"
     },
     "output_type": "display_data"
    }
   ],
   "source": [
    "x, theta, N = PID_opt_fun_withX(500, 0.4, 100, 0.5, 1, 1)\n",
    "plot_result(x, theta, N)"
   ]
  },
  {
   "cell_type": "code",
   "execution_count": 166,
   "id": "f647a11c-ab67-4ecc-b85a-0b747cefb7c3",
   "metadata": {},
   "outputs": [
    {
     "data": {
      "image/png": "[encoded data removed]",
      "text/plain": [
       "<Figure size 432x288 with 1 Axes>"
      ]
     },
     "metadata": {
      "needs_background": "light"
     },
     "output_type": "display_data"
    }
   ],
   "source": [
    "x, theta, N = PID_opt_fun_withX(400, 0.4, 100, 0.5, 1, 1)\n",
    "plot_result(x, theta, N)"
   ]
  },
  {
   "cell_type": "code",
   "execution_count": 171,
   "id": "77ceeeff-4c4c-4ce9-85f4-86537f57d36d",
   "metadata": {},
   "outputs": [
    {
     "data": {
      "image/png": "[encoded data removed]",
      "text/plain": [
       "<Figure size 432x288 with 1 Axes>"
      ]
     },
     "metadata": {
      "needs_background": "light"
     },
     "output_type": "display_data"
    }
   ],
   "source": [
    "x, theta, N = PID_opt_fun_withX(400, 1, 90, 0.5, 1, 1)\n",
    "plot_result(x, theta, N)"
   ]
  },
  {
   "cell_type": "code",
   "execution_count": 172,
   "id": "0a235eb9-5530-42d4-8d4b-a09d4b6b9e8f",
   "metadata": {},
   "outputs": [
    {
     "data": {
      "image/png": "[encoded data removed]",
      "text/plain": [
       "<Figure size 432x288 with 1 Axes>"
      ]
     },
     "metadata": {
      "needs_background": "light"
     },
     "output_type": "display_data"
    }
   ],
   "source": [
    "x, theta, N = PID_opt_fun_withX(400, 1, 90, 0.5, 1, 1)\n",
    "plot_result(x, theta, N)"
   ]
  },
  {
   "cell_type": "code",
   "execution_count": null,
   "id": "e95e5230-0f99-43e3-99cd-9ab7974193ba",
   "metadata": {},
   "outputs": [],
   "source": []
  },
  {
   "cell_type": "code",
   "execution_count": null,
   "id": "6c56892a-4402-443e-a3ac-3b756ec8a404",
   "metadata": {},
   "outputs": [],
   "source": []
  },
  {
   "cell_type": "code",
   "execution_count": null,
   "id": "3af5a917-4dd6-4d5d-855c-1e862c6576c3",
   "metadata": {},
   "outputs": [],
   "source": []
  },
  {
   "cell_type": "code",
   "execution_count": null,
   "id": "76418dce-7723-43af-8595-147da14f2951",
   "metadata": {},
   "outputs": [],
   "source": []
  },
  {
   "cell_type": "code",
   "execution_count": 23,
   "id": "98993fac-83fe-4be2-ab2e-35865e0f878e",
   "metadata": {},
   "outputs": [],
   "source": [
    "def PID_opt_fun_mean_fix(P, I, D):\n",
    "    tau = 0.02\n",
    "    N = 0 \n",
    "    K = 0\n",
    "    q = 100\n",
    "    for attempt in range(q):\n",
    "        state = env.reset()\n",
    "        integral = 0\n",
    "        derivative = 0\n",
    "        prev_error = 0\n",
    "        for t in range(100):\n",
    "            #env.render()\n",
    "            integral += state[2] * tau\n",
    "            derivative = state[3]\n",
    "            error = state[2]\n",
    "            res = I * integral + D * derivative + P * error\n",
    "            N+=abs(state[2])\n",
    "            K+=abs(state[3])\n",
    "            if res>0:\n",
    "                action = 1\n",
    "            else:\n",
    "                action = 0\n",
    "\n",
    "            state, reward, done, info = env.step(action)\n",
    "    return N / q, K/q"
   ]
  },
  {
   "cell_type": "code",
   "execution_count": null,
   "id": "eb721a89-0bb3-4702-9a6a-9ac1861d5de8",
   "metadata": {},
   "outputs": [],
   "source": []
  },
  {
   "cell_type": "code",
   "execution_count": null,
   "id": "d3773e60-3dcb-484c-9b2c-c5263b77a1c4",
   "metadata": {},
   "outputs": [],
   "source": []
  },
  {
   "cell_type": "code",
   "execution_count": null,
   "id": "139438e0-4189-4f55-8d7e-b435adbeadd9",
   "metadata": {},
   "outputs": [],
   "source": [
    "PID_opt_fun_mean_fix(1, 0, 1)"
   ]
  },
  {
   "cell_type": "code",
   "execution_count": 28,
   "id": "dbacfd42-8f78-4ef3-bfaf-bf472ce10933",
   "metadata": {},
   "outputs": [
    {
     "name": "stdout",
     "output_type": "stream",
     "text": [
      "31.654419898028088\n"
     ]
    },
    {
     "data": {
      "image/png": "[encoded data removed]",
      "text/plain": [
       "<Figure size 432x288 with 1 Axes>"
      ]
     },
     "metadata": {
      "needs_background": "light"
     },
     "output_type": "display_data"
    }
   ],
   "source": [
    "OPT_arr = []\n",
    "x_i = 0.25\n",
    "Min = 100\n",
    "xx_i = 0\n",
    "xx_d = 0\n",
    "for i in range(15):\n",
    "    I = []\n",
    "    x_d = 0.25\n",
    "    for d in range(15):\n",
    "        th, thh = PID_opt_fun_mean_fix(1, x_i, x_d)\n",
    "        r = 30*th + thh\n",
    "        I.append(r)\n",
    "        if r<Min:\n",
    "            Min = r\n",
    "            xx_i = x_i\n",
    "            xx_d = x_d\n",
    "        x_d *= 2\n",
    "    OPT_arr.append(I)\n",
    "    x_i *= 2\n",
    "plt.imshow(OPT_arr)\n",
    "print(min(min(OPT_arr)))"
   ]
  },
  {
   "cell_type": "code",
   "execution_count": 25,
   "id": "1c68df16-6cef-413d-b279-e02c11e38e67",
   "metadata": {},
   "outputs": [
    {
     "name": "stdout",
     "output_type": "stream",
     "text": [
      "27.58468297844959\n"
     ]
    }
   ],
   "source": [
    "print(min(min(OPT_arr)))"
   ]
  },
  {
   "cell_type": "code",
   "execution_count": 26,
   "id": "cf335acf-df62-44e7-bc29-a783f66641be",
   "metadata": {},
   "outputs": [
    {
     "data": {
      "text/plain": [
       "(0.002, 0.064)"
      ]
     },
     "execution_count": 26,
     "metadata": {},
     "output_type": "execute_result"
    }
   ],
   "source": [
    "xx_i, xx_d"
   ]
  },
  {
   "cell_type": "code",
   "execution_count": 30,
   "id": "512976c1-05cd-475e-8d17-613a30d77b11",
   "metadata": {},
   "outputs": [
    {
     "name": "stdout",
     "output_type": "stream",
     "text": [
      "76.41756996131666\n",
      "2.0 0.25\n"
     ]
    },
    {
     "data": {
      "image/png": "[encoded data removed]",
      "text/plain": [
       "<Figure size 432x288 with 1 Axes>"
      ]
     },
     "metadata": {
      "needs_background": "light"
     },
     "output_type": "display_data"
    }
   ],
   "source": [
    "OPT_arr = []\n",
    "x_i = 0.25\n",
    "for i in range(15):\n",
    "    I = []\n",
    "    x_d = 65\n",
    "    for d in range(15):\n",
    "        th, thh = PID_opt_fun_mean_fix(1, x_i, x_d)\n",
    "        r = 30*th + thh\n",
    "        I.append(r)\n",
    "        if r<Min:\n",
    "            Min = r\n",
    "            xx_i = x_i\n",
    "            xx_d = x_d\n",
    "        x_d *= 2\n",
    "    OPT_arr.append(I)\n",
    "    x_i *= 2\n",
    "plt.imshow(OPT_arr)\n",
    "print(min(min(OPT_arr)))\n",
    "print(xx_i, xx_d)"
   ]
  },
  {
   "cell_type": "code",
   "execution_count": null,
   "id": "fcc6bad9-bdb4-4077-a6f0-69ee00f142be",
   "metadata": {},
   "outputs": [],
   "source": []
  },
  {
   "cell_type": "code",
   "execution_count": null,
   "id": "da18b36e-5cad-45a8-866c-7374293b0617",
   "metadata": {},
   "outputs": [],
   "source": []
  },
  {
   "cell_type": "code",
   "execution_count": null,
   "id": "b03d0b91-a040-45ae-87dc-56fb165ba081",
   "metadata": {},
   "outputs": [],
   "source": []
  },
  {
   "cell_type": "code",
   "execution_count": null,
   "id": "29c8574c-50c4-4a12-9d76-f3b74d036e1a",
   "metadata": {},
   "outputs": [],
   "source": []
  },
  {
   "cell_type": "code",
   "execution_count": 89,
   "id": "6ae98011-941d-4907-aeef-776080d24584",
   "metadata": {},
   "outputs": [],
   "source": [
    "def PID_opt_fun_mean(P, I, D):\n",
    "    tau = 0.02\n",
    "    N = 0 # number of attempt\n",
    "    q = 100\n",
    "    for attempt in range(q):\n",
    "        state = env.reset()\n",
    "        integral = 0\n",
    "        derivative = 0\n",
    "        prev_error = 0\n",
    "        n = 200\n",
    "        for t in range(200):\n",
    "            #env.render()\n",
    "            integral += state[2] * tau\n",
    "            derivative = state[3]\n",
    "            error = state[2]\n",
    "            res = I * integral + D * derivative + P * error\n",
    "            if res>0:\n",
    "                action = 1\n",
    "            else:\n",
    "                action = 0\n",
    "\n",
    "            state, reward, done, info = env.step(action)\n",
    "            if done or abs(state[0]) > 0.10:\n",
    "                N += t\n",
    "                break\n",
    "    return N // q"
   ]
  },
  {
   "cell_type": "code",
   "execution_count": 145,
   "id": "6ca98ec0-3eb4-4e03-94d9-6f7214b0b743",
   "metadata": {},
   "outputs": [],
   "source": [
    "OPT_arr = []\n",
    "x_i = 0.01\n",
    "for i in range(20):\n",
    "    I = []\n",
    "    x_d = 0.01\n",
    "    for d in range(20):\n",
    "        I.append(PID_opt_fun_mean(1, x_i, x_d))\n",
    "        x_d *= 2\n",
    "    OPT_arr.append(I)\n",
    "    x_i *= 2\n",
    "plt.imshow(OPT_arr)"
   ]
  },
  {
   "cell_type": "code",
   "execution_count": 146,
   "id": "8d6e95aa-184d-4245-a88e-3e6c52860526",
   "metadata": {},
   "outputs": [
    {
     "data": {
      "text/plain": [
       "<matplotlib.image.AxesImage at 0x11f72bdc0>"
      ]
     },
     "execution_count": 146,
     "metadata": {},
     "output_type": "execute_result"
    },
    {
     "data": {
      "image/png": "[encoded data removed]",
      "text/plain": [
       "<Figure size 432x288 with 1 Axes>"
      ]
     },
     "metadata": {
      "needs_background": "light"
     },
     "output_type": "display_data"
    }
   ],
   "source": []
  },
  {
   "cell_type": "code",
   "execution_count": 151,
   "id": "d67d8ff4-5e2e-43d2-835f-9a696b5cda76",
   "metadata": {},
   "outputs": [
    {
     "data": {
      "text/plain": [
       "<matplotlib.image.AxesImage at 0x11fcba370>"
      ]
     },
     "execution_count": 151,
     "metadata": {},
     "output_type": "execute_result"
    },
    {
     "data": {
      "image/png": "[encoded data removed]",
      "text/plain": [
       "<Figure size 432x288 with 1 Axes>"
      ]
     },
     "metadata": {
      "needs_background": "light"
     },
     "output_type": "display_data"
    }
   ],
   "source": [
    "OPT_arr1 = []\n",
    "x_i = 0.01*1024\n",
    "for i in range(20):\n",
    "    I = []\n",
    "    x_d = 0.01*32\n",
    "    for d in range(20):\n",
    "        I.append(PID_opt_fun_mean(1, x_i, x_d))\n",
    "        x_d *= 1.2\n",
    "    OPT_arr1.append(I)\n",
    "    x_i *= 1.5\n",
    "plt.imshow(OPT_arr1)"
   ]
  },
  {
   "cell_type": "code",
   "execution_count": 153,
   "id": "c2b46673-4ca4-4311-8f7f-91310f1f865a",
   "metadata": {},
   "outputs": [
    {
     "data": {
      "text/plain": [
       "<matplotlib.image.AxesImage at 0x123590d00>"
      ]
     },
     "execution_count": 153,
     "metadata": {},
     "output_type": "execute_result"
    },
    {
     "data": {
      "image/png": "[encoded data removed]",
      "text/plain": [
       "<Figure size 432x288 with 1 Axes>"
      ]
     },
     "metadata": {
      "needs_background": "light"
     },
     "output_type": "display_data"
    }
   ],
   "source": [
    "OPT_arr2 = []\n",
    "x_i = 0.01*1024\n",
    "for i in range(20):\n",
    "    I = []\n",
    "    x_d = 0.01*32*3\n",
    "    for d in range(20):\n",
    "        I.append(PID_opt_fun_mean(1, x_i, x_d))\n",
    "        x_d *= 1.2\n",
    "    OPT_arr2.append(I)\n",
    "    x_i *= 1.2\n",
    "plt.imshow(OPT_arr2)"
   ]
  },
  {
   "cell_type": "code",
   "execution_count": 157,
   "id": "fd41415d-6c30-46a1-b793-bbcd5b91d471",
   "metadata": {},
   "outputs": [
    {
     "data": {
      "text/plain": [
       "89"
      ]
     },
     "execution_count": 157,
     "metadata": {},
     "output_type": "execute_result"
    }
   ],
   "source": [
    "max(max(OPT_arr2))"
   ]
  },
  {
   "cell_type": "code",
   "execution_count": 158,
   "id": "37d48fda-5032-4663-bd8b-d32e225bdc05",
   "metadata": {},
   "outputs": [
    {
     "data": {
      "text/plain": [
       "89"
      ]
     },
     "execution_count": 158,
     "metadata": {},
     "output_type": "execute_result"
    }
   ],
   "source": [
    "max(max(OPT_arr1))"
   ]
  },
  {
   "cell_type": "code",
   "execution_count": 159,
   "id": "9e3d1bba-99d7-4906-866a-88c3f324a30d",
   "metadata": {},
   "outputs": [
    {
     "data": {
      "text/plain": [
       "83"
      ]
     },
     "execution_count": 159,
     "metadata": {},
     "output_type": "execute_result"
    }
   ],
   "source": [
    "max(max(OPT_arr))"
   ]
  },
  {
   "cell_type": "code",
   "execution_count": 160,
   "id": "b2ec8812-8829-4b6a-89b9-f58b7f13436d",
   "metadata": {},
   "outputs": [
    {
     "data": {
      "text/plain": [
       "<matplotlib.image.AxesImage at 0x1235fef40>"
      ]
     },
     "execution_count": 160,
     "metadata": {},
     "output_type": "execute_result"
    },
    {
     "data": {
      "image/png": "[encoded data removed]",
      "text/plain": [
       "<Figure size 432x288 with 1 Axes>"
      ]
     },
     "metadata": {
      "needs_background": "light"
     },
     "output_type": "display_data"
    }
   ],
   "source": [
    "OPT_arr3 = []\n",
    "x_i = 0.01*1024\n",
    "for i in range(30):\n",
    "    I = []\n",
    "    x_d = 0.01*32*3*4\n",
    "    for d in range(20):\n",
    "        I.append(PID_opt_fun_mean(1, x_i, x_d))\n",
    "        x_d *= 1.15\n",
    "    OPT_arr3.append(I)\n",
    "    x_i *= 1.1\n",
    "plt.imshow(OPT_arr3)"
   ]
  },
  {
   "cell_type": "code",
   "execution_count": 163,
   "id": "7fccc91d-b6a1-4705-975a-4f7fd8b13c97",
   "metadata": {},
   "outputs": [
    {
     "data": {
      "text/plain": [
       "99"
      ]
     },
     "execution_count": 163,
     "metadata": {},
     "output_type": "execute_result"
    }
   ],
   "source": [
    "max(max(OPT_arr3))"
   ]
  },
  {
   "cell_type": "code",
   "execution_count": 162,
   "id": "9d1ebf1d-9ae7-4fa1-b13e-2574e05024b7",
   "metadata": {},
   "outputs": [
    {
     "data": {
      "text/plain": [
       "<matplotlib.image.AxesImage at 0x1233ea550>"
      ]
     },
     "execution_count": 162,
     "metadata": {},
     "output_type": "execute_result"
    },
    {
     "data": {
      "image/png": "[encoded data removed]",
      "text/plain": [
       "<Figure size 432x288 with 1 Axes>"
      ]
     },
     "metadata": {
      "needs_background": "light"
     },
     "output_type": "display_data"
    }
   ],
   "source": [
    "for i in range(30):\n",
    "    I = []\n",
    "    x_d = 0.01*32*3*3\n",
    "    for d in range(20):\n",
    "        I.append(PID_opt_fun_mean(1, x_i, x_d))\n",
    "        x_d *= 1.15\n",
    "    OPT_arr3.append(I)\n",
    "    x_i *= 1.1\n",
    "plt.imshow(OPT_arr3)"
   ]
  },
  {
   "cell_type": "code",
   "execution_count": 164,
   "id": "cf450e59-b1e0-4f31-ab79-86055bbfdbc2",
   "metadata": {},
   "outputs": [
    {
     "name": "stdout",
     "output_type": "stream",
     "text": [
      "93\n"
     ]
    },
    {
     "data": {
      "image/png": "[encoded data removed]",
      "text/plain": [
       "<Figure size 432x288 with 1 Axes>"
      ]
     },
     "metadata": {
      "needs_background": "light"
     },
     "output_type": "display_data"
    }
   ],
   "source": [
    "OPT_arr4 = []\n",
    "x_i = 170\n",
    "Max = 0\n",
    "xx_i = 0\n",
    "xx_d = 0\n",
    "for i in range(30):\n",
    "    I = []\n",
    "    x_d = 3\n",
    "    for d in range(20):\n",
    "        n = PID_opt_fun_mean(1, x_i, x_d)\n",
    "        I.append(n)\n",
    "        if n>Max:\n",
    "            Max = n\n",
    "            xx_i = x_i\n",
    "            xx_d = x_d\n",
    "        x_d *= 1.15\n",
    "    OPT_arr4.append(I)\n",
    "    x_i *= 1.1\n",
    "plt.imshow(OPT_arr4)\n",
    "print(max(max(OPT_arr4)))"
   ]
  },
  {
   "cell_type": "code",
   "execution_count": 168,
   "id": "fbb5bcfd-86fd-4fe5-8ec5-7824ab9dae74",
   "metadata": {},
   "outputs": [
    {
     "name": "stdout",
     "output_type": "stream",
     "text": [
      "94\n"
     ]
    },
    {
     "data": {
      "image/png": "[encoded data removed]",
      "text/plain": [
       "<Figure size 432x288 with 1 Axes>"
      ]
     },
     "metadata": {
      "needs_background": "light"
     },
     "output_type": "display_data"
    }
   ],
   "source": [
    "OPT_arr5 = []\n",
    "x_i = 150\n",
    "for i in range(30):\n",
    "    I = []\n",
    "    x_d = 2.5\n",
    "    for d in range(30):\n",
    "        n = PID_opt_fun_mean(1, x_i, x_d)\n",
    "        I.append(n)\n",
    "        if n>Max:\n",
    "            Max = n\n",
    "            xx_i = x_i\n",
    "            xx_d = x_d\n",
    "        x_d *= 1.15\n",
    "    OPT_arr5.append(I)\n",
    "    x_i *= 1.1\n",
    "plt.imshow(OPT_arr5)\n",
    "print(max(max(OPT_arr5)))"
   ]
  },
  {
   "cell_type": "code",
   "execution_count": 169,
   "id": "0d87d7cc-a47e-41e1-afb6-c68b2722e423",
   "metadata": {},
   "outputs": [
    {
     "data": {
      "text/plain": [
       "98"
      ]
     },
     "execution_count": 169,
     "metadata": {},
     "output_type": "execute_result"
    }
   ],
   "source": [
    "Max"
   ]
  },
  {
   "cell_type": "code",
   "execution_count": 170,
   "id": "7186f84b-0dac-446a-8b28-7ac85d71a909",
   "metadata": {},
   "outputs": [
    {
     "data": {
      "text/plain": [
       "(2.875, 150)"
      ]
     },
     "execution_count": 170,
     "metadata": {},
     "output_type": "execute_result"
    }
   ],
   "source": [
    "xx_d, xx_i"
   ]
  },
  {
   "cell_type": "code",
   "execution_count": 171,
   "id": "6fa3a0c9-5fbe-459c-90e5-846779f1c293",
   "metadata": {},
   "outputs": [
    {
     "name": "stdout",
     "output_type": "stream",
     "text": [
      "92\n"
     ]
    },
    {
     "data": {
      "image/png": "[encoded data removed]",
      "text/plain": [
       "<Figure size 432x288 with 1 Axes>"
      ]
     },
     "metadata": {
      "needs_background": "light"
     },
     "output_type": "display_data"
    }
   ],
   "source": [
    "OPT_arr6 = []\n",
    "x_i = 150\n",
    "for i in range(30):\n",
    "    I = []\n",
    "    x_d = 2.3\n",
    "    for d in range(30):\n",
    "        n = PID_opt_fun_mean(1, x_i, x_d)\n",
    "        I.append(n)\n",
    "        if n>Max:\n",
    "            Max = n\n",
    "            xx_i = x_i\n",
    "            xx_d = x_d\n",
    "        x_d *= 1.1\n",
    "    OPT_arr6.append(I)\n",
    "    x_i *= 1.1\n",
    "plt.imshow(OPT_arr6)\n",
    "print(max(max(OPT_arr6)))"
   ]
  },
  {
   "cell_type": "code",
   "execution_count": null,
   "id": "0d23b5f8-3af7-428b-9dad-5a4863903877",
   "metadata": {},
   "outputs": [],
   "source": []
  },
  {
   "cell_type": "code",
   "execution_count": null,
   "id": "7f0effd2-558d-411c-b3ce-dd28dad9d6ce",
   "metadata": {},
   "outputs": [],
   "source": []
  },
  {
   "cell_type": "code",
   "execution_count": null,
   "id": "66c820ed-624a-4e3b-b185-230f29d92a86",
   "metadata": {},
   "outputs": [],
   "source": []
  },
  {
   "cell_type": "code",
   "execution_count": 135,
   "id": "9758f0c9-b8a4-4cb3-9a25-d2d708f9e63f",
   "metadata": {},
   "outputs": [],
   "source": [
    "OPT_arr1 = []\n",
    "for p in range(10):\n",
    "    P = []\n",
    "    for i in range(10):\n",
    "        I = []\n",
    "        for d in range(10):\n",
    "            I.append(PID_opt_fun_mean(p/10, i, d))\n",
    "        P.append(I)\n",
    "    OPT_arr1.append(P)"
   ]
  },
  {
   "cell_type": "code",
   "execution_count": 86,
   "id": "0091bc64-ae7b-4c1a-aadb-481d5d510237",
   "metadata": {},
   "outputs": [
    {
     "data": {
      "text/plain": [
       "[[[8, 114, 114, 118, 114, 108, 115, 109, 111, 114],\n",
       "  [17, 97, 116, 122, 119, 113, 112, 118, 114, 109],\n",
       "  [16, 50, 97, 115, 115, 111, 123, 125, 117, 117],\n",
       "  [15, 16, 71, 96, 105, 110, 127, 118, 114, 115],\n",
       "  [16, 10, 41, 95, 102, 95, 105, 121, 103, 121],\n",
       "  [17, 7, 21, 65, 84, 108, 117, 107, 105, 110],\n",
       "  [16, 10, 15, 45, 77, 78, 90, 106, 117, 117],\n",
       "  [16, 1, 10, 35, 73, 79, 97, 82, 105, 108],\n",
       "  [17, 1, 3, 19, 44, 65, 84, 89, 96, 103],\n",
       "  [16, 0, 8, 17, 31, 56, 68, 83, 79, 89]],\n",
       " [[41, 107, 118, 110, 116, 119, 104, 118, 112, 116],\n",
       "  [22, 82, 108, 107, 115, 115, 110, 116, 117, 116],\n",
       "  [20, 26, 87, 110, 114, 115, 116, 115, 105, 114],\n",
       "  [19, 7, 61, 83, 101, 106, 107, 115, 117, 112],\n",
       "  [18, 0, 35, 66, 83, 106, 105, 116, 113, 116],\n",
       "  [17, 5, 19, 60, 74, 87, 105, 114, 111, 116],\n",
       "  [18, 5, 5, 35, 55, 83, 94, 105, 109, 112],\n",
       "  [17, 1, 5, 35, 56, 71, 79, 98, 98, 104],\n",
       "  [18, 0, 9, 14, 39, 57, 78, 81, 95, 109],\n",
       "  [17, 1, 8, 8, 20, 59, 59, 73, 85, 102]],\n",
       " [[41, 101, 109, 110, 111, 108, 110, 111, 114, 113],\n",
       "  [24, 55, 102, 109, 112, 118, 112, 122, 111, 112],\n",
       "  [22, 12, 82, 107, 108, 102, 106, 110, 113, 119],\n",
       "  [21, 5, 50, 83, 110, 114, 117, 117, 123, 117],\n",
       "  [19, 4, 26, 75, 95, 107, 103, 108, 97, 123],\n",
       "  [19, 5, 11, 44, 75, 94, 105, 111, 106, 112],\n",
       "  [18, 0, 3, 35, 63, 79, 93, 104, 103, 105],\n",
       "  [19, 0, 0, 25, 55, 64, 69, 93, 100, 108],\n",
       "  [17, 0, 4, 11, 34, 49, 72, 94, 89, 98],\n",
       "  [18, 0, 7, 7, 23, 52, 64, 71, 87, 78]],\n",
       " [[41, 73, 110, 118, 113, 115, 112, 118, 120, 113],\n",
       "  [26, 41, 101, 114, 116, 108, 114, 116, 120, 113],\n",
       "  [23, 9, 67, 101, 109, 120, 118, 115, 110, 112],\n",
       "  [22, 0, 30, 82, 106, 111, 107, 117, 110, 121],\n",
       "  [21, 4, 21, 70, 83, 96, 99, 107, 124, 115],\n",
       "  [20, 1, 12, 39, 72, 79, 107, 107, 114, 115],\n",
       "  [19, 0, 5, 29, 66, 78, 89, 93, 102, 109],\n",
       "  [19, 1, 6, 11, 34, 61, 79, 96, 98, 105],\n",
       "  [20, 0, 3, 7, 29, 50, 67, 85, 103, 104],\n",
       "  [19, 0, 1, 3, 15, 40, 47, 74, 91, 100]],\n",
       " [[39, 58, 103, 102, 115, 114, 115, 112, 120, 125],\n",
       "  [26, 28, 91, 108, 118, 110, 113, 113, 112, 124],\n",
       "  [24, 10, 66, 94, 115, 108, 121, 111, 112, 116],\n",
       "  [22, 0, 28, 77, 95, 98, 105, 117, 116, 116],\n",
       "  [22, 0, 18, 56, 68, 91, 115, 109, 115, 117],\n",
       "  [21, 1, 9, 40, 55, 86, 104, 106, 112, 103],\n",
       "  [21, 0, 5, 17, 42, 63, 89, 99, 108, 109],\n",
       "  [20, 0, 5, 17, 49, 51, 81, 94, 94, 97],\n",
       "  [19, 0, 1, 6, 27, 49, 70, 75, 95, 97],\n",
       "  [20, 0, 0, 2, 20, 35, 46, 62, 78, 85]],\n",
       " [[38, 39, 98, 101, 104, 110, 115, 116, 111, 110],\n",
       "  [28, 22, 71, 107, 113, 111, 119, 114, 103, 107],\n",
       "  [25, 8, 48, 83, 100, 113, 114, 118, 106, 113],\n",
       "  [23, 0, 22, 56, 86, 102, 111, 113, 121, 110],\n",
       "  [23, 1, 15, 40, 79, 98, 105, 109, 101, 106],\n",
       "  [22, 1, 7, 27, 58, 81, 94, 94, 112, 110],\n",
       "  [21, 1, 0, 14, 46, 57, 85, 97, 98, 114],\n",
       "  [21, 0, 4, 10, 34, 66, 86, 83, 88, 111],\n",
       "  [20, 0, 5, 0, 21, 56, 60, 79, 76, 97],\n",
       "  [19, 0, 1, 4, 13, 30, 46, 60, 79, 84]],\n",
       " [[42, 40, 71, 100, 108, 102, 111, 111, 105, 114],\n",
       "  [30, 24, 60, 95, 103, 107, 109, 116, 106, 107],\n",
       "  [26, 12, 26, 84, 110, 114, 117, 112, 114, 116],\n",
       "  [24, 1, 21, 47, 81, 92, 95, 115, 122, 117],\n",
       "  [23, 1, 11, 38, 72, 81, 97, 111, 117, 110],\n",
       "  [23, 0, 3, 24, 54, 77, 82, 100, 93, 115],\n",
       "  [22, 5, 3, 14, 61, 57, 75, 83, 105, 101],\n",
       "  [22, 0, 0, 5, 30, 38, 64, 82, 91, 99],\n",
       "  [22, 0, 2, 4, 20, 36, 57, 82, 90, 86],\n",
       "  [21, 0, 1, 2, 16, 29, 53, 58, 64, 81]],\n",
       " [[42, 28, 64, 93, 107, 111, 109, 122, 120, 111],\n",
       "  [31, 29, 51, 89, 105, 102, 104, 105, 105, 111],\n",
       "  [26, 14, 37, 59, 91, 108, 115, 115, 118, 113],\n",
       "  [24, 7, 13, 48, 77, 94, 98, 106, 123, 117],\n",
       "  [23, 8, 4, 39, 63, 93, 102, 98, 107, 111],\n",
       "  [23, 1, 8, 24, 39, 76, 91, 96, 111, 106],\n",
       "  [23, 1, 0, 13, 42, 72, 65, 94, 95, 97],\n",
       "  [22, 0, 2, 4, 21, 43, 55, 80, 92, 91],\n",
       "  [22, 1, 1, 3, 14, 32, 55, 73, 90, 78],\n",
       "  [21, 0, 0, 2, 6, 29, 46, 57, 87, 76]],\n",
       " [[40, 34, 51, 89, 95, 106, 109, 97, 110, 115],\n",
       "  [33, 33, 45, 82, 104, 102, 105, 109, 110, 117],\n",
       "  [28, 24, 19, 57, 85, 97, 106, 110, 114, 111],\n",
       "  [25, 11, 13, 43, 73, 99, 98, 105, 119, 108],\n",
       "  [24, 11, 8, 32, 58, 86, 105, 98, 101, 105],\n",
       "  [23, 10, 2, 18, 38, 63, 84, 89, 99, 109],\n",
       "  [22, 5, 0, 12, 29, 51, 71, 104, 95, 98],\n",
       "  [23, 1, 0, 4, 19, 51, 75, 70, 85, 108],\n",
       "  [22, 1, 1, 4, 12, 39, 50, 78, 81, 95],\n",
       "  [22, 0, 0, 4, 19, 23, 47, 59, 60, 87]],\n",
       " [[41, 42, 50, 72, 93, 105, 108, 110, 106, 97],\n",
       "  [32, 46, 33, 59, 98, 103, 121, 111, 106, 118],\n",
       "  [28, 24, 17, 52, 81, 81, 113, 103, 111, 119],\n",
       "  [26, 11, 19, 35, 68, 82, 102, 101, 112, 108],\n",
       "  [24, 16, 10, 21, 44, 85, 103, 80, 97, 113],\n",
       "  [22, 4, 3, 14, 37, 70, 84, 83, 96, 106],\n",
       "  [23, 1, 1, 19, 33, 45, 59, 77, 95, 91],\n",
       "  [24, 1, 3, 5, 22, 32, 52, 77, 82, 91],\n",
       "  [22, 1, 1, 8, 14, 27, 54, 70, 79, 83],\n",
       "  [22, 0, 0, 0, 14, 17, 38, 47, 66, 80]]]"
      ]
     },
     "execution_count": 86,
     "metadata": {},
     "output_type": "execute_result"
    }
   ],
   "source": [
    "OPT_arr1"
   ]
  },
  {
   "cell_type": "code",
   "execution_count": 87,
   "id": "50b62435-afcc-4d4f-a16b-6ac87fc4ea30",
   "metadata": {},
   "outputs": [],
   "source": [
    "OPT_arr2 = []\n",
    "for p in range(10):\n",
    "    P = []\n",
    "    for i in range(10):\n",
    "        I = []\n",
    "        for d in range(10):\n",
    "            I.append(PID_opt_fun_mean(p/10, i, d*10))\n",
    "        P.append(I)\n",
    "    OPT_arr2.append(P)"
   ]
  },
  {
   "cell_type": "code",
   "execution_count": 88,
   "id": "adf0726c-24a5-4e78-827a-5ea12c4bfb52",
   "metadata": {},
   "outputs": [
    {
     "data": {
      "text/plain": [
       "[[[8, 109, 115, 108, 107, 111, 108, 115, 113, 106],\n",
       "  [15, 113, 113, 107, 116, 120, 115, 119, 115, 105],\n",
       "  [16, 113, 123, 119, 114, 112, 111, 120, 112, 116],\n",
       "  [16, 112, 116, 113, 111, 111, 114, 113, 119, 118],\n",
       "  [16, 118, 113, 112, 114, 117, 112, 112, 113, 111],\n",
       "  [16, 119, 118, 118, 116, 114, 114, 110, 124, 118],\n",
       "  [17, 110, 115, 114, 109, 122, 118, 116, 116, 112],\n",
       "  [16, 115, 107, 110, 117, 116, 115, 118, 112, 119],\n",
       "  [15, 102, 116, 117, 118, 120, 122, 110, 113, 115],\n",
       "  [16, 103, 114, 113, 109, 115, 115, 109, 115, 110]],\n",
       " [[40, 110, 112, 112, 115, 117, 117, 114, 115, 114],\n",
       "  [22, 118, 115, 114, 112, 117, 119, 117, 116, 113],\n",
       "  [20, 115, 113, 115, 114, 121, 104, 109, 117, 110],\n",
       "  [19, 117, 113, 109, 116, 109, 118, 107, 109, 112],\n",
       "  [18, 114, 120, 110, 112, 113, 114, 107, 110, 107],\n",
       "  [18, 114, 114, 106, 115, 114, 119, 111, 114, 116],\n",
       "  [18, 115, 114, 117, 112, 114, 123, 108, 113, 112],\n",
       "  [17, 119, 116, 119, 113, 127, 116, 113, 108, 113],\n",
       "  [17, 107, 122, 124, 121, 112, 112, 123, 117, 112],\n",
       "  [16, 98, 114, 112, 118, 114, 120, 113, 124, 121]],\n",
       " [[41, 111, 113, 114, 115, 111, 120, 117, 112, 111],\n",
       "  [23, 123, 116, 121, 111, 115, 111, 115, 116, 112],\n",
       "  [22, 114, 123, 118, 120, 122, 115, 119, 118, 114],\n",
       "  [21, 116, 116, 123, 114, 114, 114, 116, 113, 115],\n",
       "  [19, 114, 116, 109, 122, 112, 118, 115, 115, 109],\n",
       "  [19, 113, 113, 113, 115, 113, 117, 117, 114, 121],\n",
       "  [19, 113, 116, 113, 114, 112, 110, 117, 116, 117],\n",
       "  [19, 102, 120, 120, 113, 113, 107, 119, 111, 114],\n",
       "  [19, 104, 114, 120, 115, 113, 113, 120, 113, 112],\n",
       "  [18, 93, 113, 112, 123, 113, 118, 114, 109, 115]],\n",
       " [[39, 117, 109, 107, 111, 112, 110, 111, 110, 113],\n",
       "  [26, 110, 123, 113, 111, 115, 117, 112, 109, 113],\n",
       "  [23, 117, 111, 116, 117, 118, 112, 115, 112, 117],\n",
       "  [22, 116, 116, 117, 109, 113, 114, 106, 108, 113],\n",
       "  [21, 116, 122, 104, 118, 116, 115, 118, 114, 113],\n",
       "  [20, 116, 115, 101, 122, 109, 120, 115, 116, 109],\n",
       "  [19, 119, 115, 113, 110, 115, 111, 114, 116, 115],\n",
       "  [19, 110, 123, 113, 120, 113, 123, 112, 113, 109],\n",
       "  [20, 109, 111, 119, 117, 115, 106, 119, 114, 111],\n",
       "  [19, 103, 112, 122, 117, 112, 112, 113, 121, 116]],\n",
       " [[41, 110, 121, 113, 115, 109, 118, 114, 112, 112],\n",
       "  [28, 115, 118, 117, 117, 111, 114, 119, 114, 122],\n",
       "  [24, 117, 116, 111, 113, 111, 114, 107, 109, 113],\n",
       "  [22, 113, 118, 115, 112, 110, 112, 118, 118, 113],\n",
       "  [22, 105, 121, 112, 110, 108, 111, 111, 116, 119],\n",
       "  [22, 112, 126, 107, 112, 109, 119, 113, 109, 110],\n",
       "  [21, 103, 113, 115, 120, 113, 113, 119, 115, 112],\n",
       "  [20, 117, 117, 117, 120, 113, 114, 115, 111, 117],\n",
       "  [20, 94, 107, 116, 110, 114, 110, 117, 110, 107],\n",
       "  [20, 107, 124, 123, 118, 114, 116, 105, 108, 116]],\n",
       " [[41, 118, 119, 121, 125, 116, 122, 109, 115, 116],\n",
       "  [28, 114, 115, 114, 117, 114, 120, 111, 113, 115],\n",
       "  [24, 117, 117, 109, 108, 107, 118, 110, 112, 116],\n",
       "  [23, 116, 110, 114, 108, 115, 120, 114, 112, 117],\n",
       "  [23, 110, 115, 114, 117, 113, 112, 113, 116, 116],\n",
       "  [23, 114, 112, 118, 114, 112, 107, 109, 107, 111],\n",
       "  [21, 113, 113, 117, 113, 120, 114, 114, 114, 110],\n",
       "  [21, 106, 121, 119, 121, 116, 116, 115, 111, 118],\n",
       "  [20, 109, 115, 112, 116, 110, 115, 115, 113, 116],\n",
       "  [20, 95, 116, 113, 111, 116, 117, 109, 110, 112]],\n",
       " [[41, 112, 119, 111, 117, 109, 109, 109, 119, 119],\n",
       "  [29, 113, 113, 116, 110, 111, 106, 115, 110, 112],\n",
       "  [26, 108, 108, 118, 114, 111, 118, 122, 116, 111],\n",
       "  [24, 112, 113, 111, 114, 111, 117, 122, 119, 126],\n",
       "  [23, 121, 116, 117, 119, 112, 115, 111, 115, 113],\n",
       "  [22, 116, 130, 119, 119, 114, 116, 121, 117, 116],\n",
       "  [22, 106, 116, 122, 127, 109, 113, 113, 112, 112],\n",
       "  [21, 91, 117, 114, 112, 115, 124, 117, 118, 114],\n",
       "  [21, 110, 123, 110, 115, 124, 117, 112, 122, 113],\n",
       "  [20, 96, 116, 112, 108, 122, 120, 122, 111, 114]],\n",
       " [[40, 116, 109, 122, 122, 115, 116, 115, 107, 113],\n",
       "  [31, 116, 122, 112, 119, 114, 121, 116, 112, 114],\n",
       "  [26, 111, 116, 120, 118, 114, 112, 113, 114, 116],\n",
       "  [24, 114, 120, 110, 120, 120, 121, 118, 112, 115],\n",
       "  [24, 113, 116, 109, 109, 112, 114, 112, 121, 115],\n",
       "  [23, 117, 110, 114, 114, 112, 117, 113, 112, 110],\n",
       "  [22, 109, 112, 111, 107, 114, 116, 110, 117, 117],\n",
       "  [22, 97, 120, 111, 122, 120, 113, 119, 117, 116],\n",
       "  [22, 95, 111, 113, 114, 123, 118, 117, 119, 112],\n",
       "  [21, 93, 114, 119, 114, 115, 117, 123, 117, 110]],\n",
       " [[41, 106, 112, 112, 115, 120, 114, 114, 118, 115],\n",
       "  [32, 113, 113, 113, 115, 119, 114, 107, 115, 113],\n",
       "  [29, 118, 123, 113, 123, 117, 118, 113, 114, 119],\n",
       "  [25, 112, 122, 109, 113, 115, 112, 118, 112, 113],\n",
       "  [24, 121, 113, 112, 112, 111, 113, 110, 126, 120],\n",
       "  [23, 115, 101, 119, 113, 104, 121, 113, 112, 112],\n",
       "  [23, 104, 110, 115, 112, 120, 113, 119, 114, 112],\n",
       "  [22, 108, 109, 114, 114, 118, 112, 116, 110, 120],\n",
       "  [23, 100, 117, 113, 123, 114, 121, 111, 117, 109],\n",
       "  [22, 83, 107, 113, 115, 106, 113, 114, 111, 121]],\n",
       " [[42, 119, 106, 117, 110, 116, 110, 113, 114, 116],\n",
       "  [33, 106, 111, 119, 112, 113, 114, 114, 112, 117],\n",
       "  [28, 110, 115, 119, 109, 113, 113, 115, 115, 111],\n",
       "  [26, 113, 109, 121, 116, 116, 114, 114, 113, 113],\n",
       "  [24, 114, 118, 114, 103, 123, 112, 120, 111, 106],\n",
       "  [24, 108, 110, 124, 118, 121, 114, 117, 109, 115],\n",
       "  [23, 108, 123, 116, 108, 116, 109, 117, 124, 125],\n",
       "  [23, 96, 114, 121, 125, 113, 110, 121, 118, 113],\n",
       "  [22, 97, 113, 115, 112, 123, 115, 114, 109, 117],\n",
       "  [22, 100, 108, 118, 106, 114, 117, 112, 122, 116]]]"
      ]
     },
     "execution_count": 88,
     "metadata": {},
     "output_type": "execute_result"
    }
   ],
   "source": [
    "OPT_arr2"
   ]
  },
  {
   "cell_type": "code",
   "execution_count": 90,
   "id": "a11cc2e5-5845-4ba7-bc2d-87e7f35449e3",
   "metadata": {},
   "outputs": [],
   "source": [
    "OPT_arr3 = []\n",
    "for p in range(10):\n",
    "    P = []\n",
    "    for i in range(10):\n",
    "        I = []\n",
    "        for d in range(10):\n",
    "            I.append(PID_opt_fun_mean(p/10, i, d*10))\n",
    "        P.append(I)\n",
    "    OPT_arr3.append(P)"
   ]
  },
  {
   "cell_type": "code",
   "execution_count": 91,
   "id": "59e1d311-e4a6-49c1-b46f-e8ae68231fb5",
   "metadata": {},
   "outputs": [
    {
     "data": {
      "text/plain": [
       "[[[7, 70, 59, 57, 68, 64, 67, 65, 67, 68],\n",
       "  [9, 65, 63, 63, 66, 68, 70, 62, 65, 70],\n",
       "  [10, 62, 67, 66, 61, 69, 68, 68, 65, 67],\n",
       "  [10, 70, 70, 61, 69, 67, 62, 67, 69, 61],\n",
       "  [9, 64, 62, 68, 64, 74, 59, 61, 63, 61],\n",
       "  [10, 65, 66, 65, 63, 65, 63, 70, 61, 73],\n",
       "  [10, 61, 60, 60, 68, 63, 77, 69, 65, 64],\n",
       "  [9, 67, 62, 66, 65, 66, 66, 68, 68, 70],\n",
       "  [10, 63, 68, 72, 66, 63, 62, 69, 66, 60],\n",
       "  [9, 67, 66, 66, 60, 66, 67, 72, 68, 63]],\n",
       " [[21, 70, 61, 66, 63, 66, 62, 63, 72, 63],\n",
       "  [14, 65, 71, 58, 68, 70, 66, 72, 67, 63],\n",
       "  [12, 60, 64, 73, 65, 64, 62, 69, 64, 66],\n",
       "  [12, 62, 61, 65, 66, 66, 63, 64, 66, 66],\n",
       "  [10, 63, 63, 66, 70, 65, 71, 63, 68, 68],\n",
       "  [11, 65, 62, 67, 70, 68, 63, 67, 62, 66],\n",
       "  [11, 65, 67, 64, 65, 67, 60, 65, 59, 67],\n",
       "  [10, 70, 65, 61, 64, 67, 67, 66, 66, 59],\n",
       "  [11, 68, 72, 68, 70, 65, 65, 66, 61, 62],\n",
       "  [10, 65, 67, 63, 73, 62, 62, 64, 65, 70]],\n",
       " [[21, 67, 71, 61, 68, 66, 60, 63, 63, 66],\n",
       "  [15, 63, 67, 68, 66, 69, 62, 70, 64, 63],\n",
       "  [13, 66, 72, 67, 63, 63, 62, 68, 65, 68],\n",
       "  [13, 69, 62, 63, 68, 63, 66, 63, 65, 67],\n",
       "  [13, 65, 63, 61, 59, 67, 67, 65, 67, 61],\n",
       "  [12, 65, 69, 64, 61, 67, 66, 65, 60, 69],\n",
       "  [10, 74, 68, 64, 64, 72, 64, 65, 67, 70],\n",
       "  [12, 68, 66, 70, 65, 68, 68, 68, 67, 66],\n",
       "  [10, 72, 65, 67, 68, 66, 68, 67, 68, 69],\n",
       "  [11, 68, 73, 62, 65, 64, 61, 71, 66, 68]],\n",
       " [[22, 73, 71, 64, 67, 68, 58, 68, 73, 64],\n",
       "  [14, 60, 67, 66, 60, 69, 63, 63, 65, 67],\n",
       "  [15, 72, 69, 67, 61, 58, 66, 73, 64, 68],\n",
       "  [14, 68, 68, 58, 58, 65, 64, 62, 68, 64],\n",
       "  [12, 66, 69, 69, 68, 67, 61, 70, 59, 66],\n",
       "  [13, 64, 68, 64, 67, 68, 64, 64, 64, 67],\n",
       "  [11, 69, 70, 60, 67, 63, 63, 69, 58, 64],\n",
       "  [10, 67, 70, 67, 65, 66, 68, 72, 62, 63],\n",
       "  [11, 73, 67, 68, 70, 67, 66, 68, 68, 65],\n",
       "  [11, 62, 70, 70, 61, 67, 67, 65, 67, 60]],\n",
       " [[22, 62, 65, 61, 70, 66, 68, 65, 68, 64],\n",
       "  [17, 66, 65, 70, 59, 68, 66, 67, 66, 65],\n",
       "  [16, 61, 62, 69, 70, 64, 70, 66, 62, 62],\n",
       "  [15, 70, 64, 68, 61, 69, 70, 65, 68, 66],\n",
       "  [14, 65, 72, 66, 66, 68, 72, 65, 68, 64],\n",
       "  [12, 70, 67, 66, 63, 59, 65, 59, 66, 70],\n",
       "  [13, 77, 77, 65, 68, 62, 71, 66, 63, 63],\n",
       "  [12, 67, 69, 65, 66, 62, 68, 63, 69, 68],\n",
       "  [13, 64, 76, 68, 69, 66, 71, 61, 65, 70],\n",
       "  [12, 56, 66, 63, 70, 60, 70, 68, 66, 68]],\n",
       " [[21, 64, 71, 68, 67, 72, 67, 72, 63, 60],\n",
       "  [17, 62, 62, 75, 59, 72, 71, 64, 65, 67],\n",
       "  [16, 73, 65, 64, 67, 63, 75, 71, 63, 70],\n",
       "  [15, 66, 63, 62, 66, 69, 72, 65, 66, 66],\n",
       "  [14, 67, 64, 63, 68, 68, 62, 67, 64, 66],\n",
       "  [14, 70, 65, 68, 70, 64, 68, 68, 67, 66],\n",
       "  [13, 72, 71, 69, 58, 65, 72, 64, 66, 64],\n",
       "  [13, 64, 60, 64, 66, 63, 70, 68, 64, 61],\n",
       "  [12, 71, 69, 63, 68, 65, 70, 63, 69, 65],\n",
       "  [12, 71, 69, 71, 68, 69, 67, 63, 61, 65]],\n",
       " [[22, 62, 67, 67, 68, 71, 66, 64, 62, 68],\n",
       "  [18, 71, 64, 68, 63, 60, 66, 65, 68, 68],\n",
       "  [16, 70, 72, 64, 66, 67, 68, 65, 68, 67],\n",
       "  [15, 69, 68, 72, 63, 64, 65, 63, 60, 68],\n",
       "  [14, 69, 68, 67, 74, 64, 64, 64, 63, 67],\n",
       "  [14, 68, 68, 64, 67, 63, 68, 60, 66, 63],\n",
       "  [14, 65, 64, 68, 67, 69, 65, 66, 69, 66],\n",
       "  [12, 71, 65, 63, 67, 67, 63, 69, 65, 68],\n",
       "  [13, 76, 68, 68, 69, 69, 71, 65, 64, 58],\n",
       "  [12, 73, 66, 66, 63, 73, 72, 66, 67, 67]],\n",
       " [[21, 69, 70, 69, 75, 68, 69, 61, 64, 65],\n",
       "  [19, 70, 64, 71, 65, 67, 61, 69, 66, 65],\n",
       "  [18, 71, 71, 64, 65, 67, 64, 65, 72, 65],\n",
       "  [15, 65, 70, 71, 66, 69, 64, 66, 64, 64],\n",
       "  [15, 74, 65, 61, 69, 64, 64, 64, 62, 65],\n",
       "  [15, 64, 64, 65, 65, 69, 63, 70, 67, 67],\n",
       "  [14, 76, 65, 62, 69, 66, 64, 66, 72, 71],\n",
       "  [13, 67, 69, 63, 65, 66, 65, 72, 66, 68],\n",
       "  [13, 72, 69, 66, 67, 69, 62, 67, 60, 66],\n",
       "  [14, 65, 73, 61, 61, 61, 68, 65, 67, 67]],\n",
       " [[21, 71, 66, 63, 59, 65, 62, 65, 64, 69],\n",
       "  [18, 74, 59, 64, 69, 69, 62, 64, 65, 68],\n",
       "  [17, 68, 65, 59, 69, 70, 68, 65, 71, 64],\n",
       "  [15, 68, 67, 68, 67, 67, 70, 68, 69, 71],\n",
       "  [16, 72, 65, 73, 65, 66, 69, 66, 69, 66],\n",
       "  [15, 70, 64, 61, 73, 69, 64, 60, 62, 64],\n",
       "  [14, 64, 66, 71, 69, 70, 65, 68, 65, 67],\n",
       "  [13, 71, 66, 64, 69, 63, 63, 68, 66, 63],\n",
       "  [12, 65, 63, 66, 70, 65, 68, 67, 66, 66],\n",
       "  [13, 73, 69, 63, 70, 70, 70, 70, 67, 68]],\n",
       " [[21, 62, 68, 63, 66, 64, 64, 68, 66, 64],\n",
       "  [21, 65, 66, 68, 69, 68, 62, 67, 61, 63],\n",
       "  [17, 60, 64, 68, 62, 65, 66, 67, 60, 65],\n",
       "  [16, 63, 63, 65, 69, 64, 63, 70, 63, 71],\n",
       "  [16, 72, 66, 65, 70, 64, 68, 69, 61, 66],\n",
       "  [16, 67, 67, 67, 73, 66, 64, 63, 59, 66],\n",
       "  [14, 69, 68, 66, 71, 65, 68, 64, 64, 69],\n",
       "  [13, 64, 64, 63, 68, 66, 70, 64, 70, 66],\n",
       "  [15, 68, 68, 69, 64, 62, 63, 67, 63, 65],\n",
       "  [13, 75, 69, 67, 70, 66, 64, 69, 69, 72]]]"
      ]
     },
     "execution_count": 91,
     "metadata": {},
     "output_type": "execute_result"
    }
   ],
   "source": [
    "OPT_arr3"
   ]
  },
  {
   "cell_type": "code",
   "execution_count": 92,
   "id": "94086f1d-3f3d-4fca-8d4e-983a1768ce35",
   "metadata": {},
   "outputs": [],
   "source": [
    "OPT_arr4 = []\n",
    "for p in range(10):\n",
    "    P = []\n",
    "    for i in range(10):\n",
    "        I = []\n",
    "        for d in range(10):\n",
    "            I.append(PID_opt_fun_mean(p/10, i/10, d*10))\n",
    "        P.append(I)\n",
    "    OPT_arr4.append(P)"
   ]
  },
  {
   "cell_type": "code",
   "execution_count": 93,
   "id": "cedb5600-a4a9-4515-8c55-ed59fee2891c",
   "metadata": {},
   "outputs": [
    {
     "data": {
      "text/plain": [
       "[[[6, 62, 67, 62, 67, 63, 65, 65, 69, 66],\n",
       "  [10, 66, 59, 64, 67, 68, 62, 71, 64, 65],\n",
       "  [9, 69, 62, 65, 68, 67, 74, 66, 67, 64],\n",
       "  [9, 64, 63, 64, 62, 64, 63, 62, 60, 64],\n",
       "  [10, 66, 70, 65, 66, 66, 62, 64, 65, 67],\n",
       "  [10, 67, 66, 58, 62, 64, 64, 59, 59, 69],\n",
       "  [9, 67, 62, 64, 68, 60, 63, 70, 66, 66],\n",
       "  [10, 64, 68, 64, 69, 59, 65, 65, 60, 67],\n",
       "  [10, 65, 72, 66, 61, 63, 66, 65, 64, 65],\n",
       "  [10, 68, 72, 68, 65, 64, 62, 64, 68, 62]],\n",
       " [[20, 66, 67, 62, 67, 70, 63, 64, 72, 65],\n",
       "  [19, 69, 70, 67, 69, 61, 70, 64, 58, 61],\n",
       "  [16, 69, 66, 72, 68, 64, 66, 63, 65, 67],\n",
       "  [16, 72, 66, 70, 68, 65, 66, 67, 66, 66],\n",
       "  [16, 65, 64, 65, 67, 65, 64, 65, 63, 67],\n",
       "  [16, 62, 64, 61, 64, 68, 64, 62, 70, 64],\n",
       "  [14, 64, 70, 64, 68, 66, 65, 66, 62, 68],\n",
       "  [14, 68, 66, 63, 67, 63, 65, 67, 65, 69],\n",
       "  [14, 62, 63, 58, 66, 60, 66, 70, 66, 62],\n",
       "  [13, 68, 59, 71, 63, 59, 64, 67, 66, 67]],\n",
       " [[19, 68, 65, 65, 65, 64, 64, 65, 69, 67],\n",
       "  [20, 65, 70, 67, 64, 66, 63, 66, 66, 66],\n",
       "  [19, 65, 63, 62, 72, 68, 65, 66, 62, 67],\n",
       "  [18, 66, 68, 63, 67, 61, 67, 70, 63, 63],\n",
       "  [19, 65, 70, 62, 67, 69, 71, 68, 65, 67],\n",
       "  [18, 67, 64, 65, 64, 73, 63, 67, 61, 60],\n",
       "  [16, 65, 62, 63, 63, 61, 70, 74, 61, 68],\n",
       "  [16, 64, 65, 64, 66, 72, 71, 66, 68, 62],\n",
       "  [14, 64, 62, 64, 63, 66, 70, 66, 63, 67],\n",
       "  [15, 65, 68, 70, 65, 66, 66, 67, 68, 66]],\n",
       " [[20, 65, 70, 67, 61, 66, 67, 67, 71, 56],\n",
       "  [21, 68, 69, 63, 66, 63, 63, 62, 65, 64],\n",
       "  [20, 73, 66, 61, 71, 63, 67, 65, 65, 75],\n",
       "  [19, 65, 60, 66, 65, 66, 62, 63, 73, 70],\n",
       "  [19, 63, 67, 65, 65, 69, 66, 64, 65, 64],\n",
       "  [19, 71, 66, 71, 62, 72, 61, 62, 67, 65],\n",
       "  [19, 67, 61, 66, 64, 62, 71, 67, 67, 62],\n",
       "  [17, 69, 62, 68, 72, 60, 67, 61, 75, 69],\n",
       "  [16, 64, 64, 65, 60, 62, 64, 67, 65, 63],\n",
       "  [16, 66, 66, 65, 67, 62, 67, 63, 64, 64]],\n",
       " [[21, 65, 69, 64, 65, 68, 61, 66, 68, 71],\n",
       "  [21, 65, 65, 64, 66, 68, 62, 64, 61, 71],\n",
       "  [18, 68, 67, 69, 68, 62, 62, 66, 73, 66],\n",
       "  [19, 66, 70, 62, 64, 67, 64, 64, 68, 67],\n",
       "  [18, 67, 61, 65, 61, 67, 62, 64, 67, 66],\n",
       "  [20, 62, 70, 68, 64, 67, 66, 66, 63, 62],\n",
       "  [19, 69, 73, 69, 63, 65, 67, 64, 61, 69],\n",
       "  [19, 70, 67, 70, 61, 68, 66, 66, 65, 63],\n",
       "  [17, 65, 68, 61, 65, 68, 69, 64, 66, 68],\n",
       "  [16, 73, 67, 65, 61, 69, 67, 69, 61, 68]],\n",
       " [[21, 59, 68, 65, 69, 61, 68, 65, 65, 68],\n",
       "  [21, 71, 66, 59, 65, 68, 60, 73, 62, 66],\n",
       "  [20, 67, 68, 71, 67, 62, 67, 65, 65, 67],\n",
       "  [20, 65, 64, 70, 69, 64, 68, 66, 71, 66],\n",
       "  [19, 64, 66, 62, 67, 62, 63, 69, 64, 68],\n",
       "  [19, 67, 66, 73, 69, 65, 68, 64, 64, 68],\n",
       "  [19, 66, 67, 67, 64, 65, 70, 69, 58, 69],\n",
       "  [19, 66, 68, 72, 61, 71, 66, 66, 66, 67],\n",
       "  [19, 67, 71, 70, 64, 66, 65, 66, 66, 65],\n",
       "  [17, 65, 66, 64, 67, 62, 64, 65, 66, 70]],\n",
       " [[20, 71, 68, 67, 68, 67, 64, 59, 64, 63],\n",
       "  [20, 70, 71, 61, 65, 63, 65, 61, 63, 65],\n",
       "  [20, 71, 69, 69, 62, 61, 66, 67, 67, 65],\n",
       "  [20, 67, 68, 66, 63, 60, 65, 65, 63, 67],\n",
       "  [20, 62, 66, 62, 71, 69, 73, 62, 64, 68],\n",
       "  [19, 73, 68, 60, 57, 66, 64, 65, 70, 66],\n",
       "  [19, 71, 64, 63, 66, 69, 65, 66, 69, 68],\n",
       "  [20, 67, 69, 69, 65, 65, 66, 63, 67, 66],\n",
       "  [19, 70, 63, 64, 72, 70, 69, 64, 62, 65],\n",
       "  [17, 69, 71, 70, 69, 67, 67, 77, 65, 61]],\n",
       " [[19, 67, 67, 71, 60, 62, 69, 61, 69, 66],\n",
       "  [21, 74, 73, 67, 64, 67, 63, 56, 58, 71],\n",
       "  [19, 67, 65, 66, 65, 63, 61, 62, 59, 66],\n",
       "  [20, 68, 69, 58, 66, 61, 72, 64, 68, 69],\n",
       "  [20, 75, 69, 67, 64, 64, 65, 67, 68, 64],\n",
       "  [19, 70, 68, 70, 64, 58, 71, 61, 64, 62],\n",
       "  [19, 66, 66, 63, 66, 66, 64, 57, 65, 66],\n",
       "  [19, 64, 66, 63, 63, 65, 72, 70, 62, 64],\n",
       "  [20, 73, 75, 67, 67, 68, 71, 63, 66, 67],\n",
       "  [19, 68, 67, 68, 60, 65, 66, 65, 64, 65]],\n",
       " [[21, 72, 66, 62, 68, 69, 65, 68, 60, 66],\n",
       "  [22, 74, 65, 70, 64, 64, 65, 61, 67, 65],\n",
       "  [20, 69, 67, 67, 66, 67, 65, 56, 64, 59],\n",
       "  [21, 68, 73, 66, 64, 70, 66, 64, 62, 63],\n",
       "  [20, 68, 65, 64, 63, 66, 68, 69, 70, 64],\n",
       "  [20, 66, 64, 66, 62, 62, 63, 59, 69, 65],\n",
       "  [18, 65, 68, 63, 67, 63, 65, 68, 62, 57],\n",
       "  [20, 72, 63, 64, 59, 63, 65, 70, 66, 64],\n",
       "  [19, 71, 69, 72, 64, 64, 60, 67, 68, 65],\n",
       "  [19, 65, 67, 66, 63, 66, 72, 65, 68, 68]],\n",
       " [[21, 67, 70, 62, 63, 63, 61, 67, 66, 70],\n",
       "  [20, 66, 69, 68, 65, 72, 60, 69, 63, 71],\n",
       "  [21, 76, 64, 63, 73, 68, 74, 68, 66, 64],\n",
       "  [20, 69, 65, 69, 65, 59, 61, 66, 65, 61],\n",
       "  [21, 75, 67, 71, 69, 66, 64, 63, 65, 66],\n",
       "  [19, 76, 70, 66, 64, 66, 69, 68, 68, 65],\n",
       "  [21, 70, 69, 65, 69, 66, 66, 65, 64, 59],\n",
       "  [21, 69, 66, 72, 65, 68, 63, 64, 60, 68],\n",
       "  [20, 69, 73, 64, 63, 65, 66, 61, 71, 60],\n",
       "  [19, 73, 66, 66, 62, 62, 65, 63, 67, 71]]]"
      ]
     },
     "execution_count": 93,
     "metadata": {},
     "output_type": "execute_result"
    }
   ],
   "source": [
    "OPT_arr4"
   ]
  },
  {
   "cell_type": "code",
   "execution_count": 94,
   "id": "f97be1ba-96d3-4e4d-9bdd-372e451a0241",
   "metadata": {},
   "outputs": [],
   "source": [
    "OPT_arr5 = []\n",
    "for p in range(10):\n",
    "    P = []\n",
    "    for i in range(10):\n",
    "        I = []\n",
    "        for d in range(10):\n",
    "            I.append(PID_opt_fun_mean(p/10, i*10, d*10))\n",
    "        P.append(I)\n",
    "    OPT_arr5.append(P)"
   ]
  },
  {
   "cell_type": "code",
   "execution_count": 95,
   "id": "b4b3f052-9f03-442a-9e61-dc5f92881ce2",
   "metadata": {},
   "outputs": [
    {
     "data": {
      "text/plain": [
       "[[[7, 64, 62, 64, 64, 62, 64, 65, 67, 66],\n",
       "  [10, 69, 62, 64, 68, 65, 67, 69, 66, 66],\n",
       "  [11, 67, 66, 74, 67, 71, 67, 65, 69, 67],\n",
       "  [10, 75, 80, 64, 63, 59, 62, 63, 65, 63],\n",
       "  [9, 68, 70, 67, 61, 64, 65, 68, 72, 68],\n",
       "  [10, 68, 75, 69, 65, 67, 64, 69, 68, 67],\n",
       "  [9, 70, 63, 65, 63, 67, 70, 64, 71, 66],\n",
       "  [10, 69, 65, 67, 68, 62, 67, 66, 68, 64],\n",
       "  [10, 73, 73, 65, 69, 69, 71, 66, 65, 62],\n",
       "  [10, 73, 60, 74, 69, 63, 68, 67, 62, 67]],\n",
       " [[21, 58, 64, 69, 63, 70, 68, 66, 64, 64],\n",
       "  [10, 69, 63, 65, 66, 62, 65, 64, 70, 67],\n",
       "  [10, 66, 69, 70, 69, 67, 70, 64, 67, 66],\n",
       "  [10, 76, 64, 66, 62, 58, 70, 57, 63, 66],\n",
       "  [10, 68, 67, 62, 69, 65, 62, 69, 64, 68],\n",
       "  [10, 71, 63, 66, 63, 66, 68, 65, 67, 70],\n",
       "  [9, 72, 70, 64, 72, 71, 65, 68, 68, 65],\n",
       "  [10, 68, 66, 63, 69, 67, 66, 64, 65, 68],\n",
       "  [9, 58, 75, 68, 66, 65, 62, 66, 67, 68],\n",
       "  [9, 72, 65, 68, 68, 75, 67, 61, 68, 67]],\n",
       " [[21, 67, 58, 67, 66, 62, 65, 67, 58, 66],\n",
       "  [11, 68, 67, 64, 70, 62, 61, 66, 70, 72],\n",
       "  [11, 66, 65, 64, 62, 65, 70, 60, 61, 58],\n",
       "  [11, 67, 66, 67, 66, 58, 65, 65, 60, 65],\n",
       "  [10, 73, 71, 70, 63, 62, 67, 70, 61, 69],\n",
       "  [10, 69, 66, 66, 70, 64, 69, 63, 67, 69],\n",
       "  [10, 80, 68, 68, 69, 65, 69, 64, 65, 63],\n",
       "  [9, 77, 73, 69, 64, 68, 66, 63, 62, 70],\n",
       "  [9, 70, 70, 70, 60, 66, 59, 65, 64, 64],\n",
       "  [10, 76, 71, 64, 67, 67, 69, 62, 71, 65]],\n",
       " [[19, 61, 70, 75, 66, 68, 61, 66, 73, 68],\n",
       "  [11, 64, 64, 67, 64, 64, 61, 57, 69, 65],\n",
       "  [11, 65, 67, 69, 65, 60, 74, 63, 63, 65],\n",
       "  [10, 66, 71, 62, 64, 65, 61, 62, 68, 68],\n",
       "  [11, 69, 70, 64, 65, 63, 70, 67, 67, 76],\n",
       "  [10, 73, 65, 60, 69, 67, 64, 68, 67, 68],\n",
       "  [10, 69, 64, 70, 66, 73, 66, 68, 59, 70],\n",
       "  [9, 78, 68, 60, 70, 61, 68, 63, 68, 65],\n",
       "  [10, 70, 66, 67, 66, 68, 63, 63, 63, 68],\n",
       "  [9, 66, 63, 74, 67, 72, 69, 71, 68, 68]],\n",
       " [[20, 73, 67, 65, 69, 65, 64, 67, 64, 63],\n",
       "  [12, 66, 67, 68, 61, 69, 67, 69, 66, 67],\n",
       "  [10, 66, 68, 67, 75, 61, 66, 67, 64, 65],\n",
       "  [11, 67, 68, 68, 62, 73, 64, 68, 66, 66],\n",
       "  [10, 68, 68, 70, 67, 68, 63, 63, 63, 70],\n",
       "  [10, 72, 64, 65, 62, 68, 64, 68, 66, 67],\n",
       "  [10, 69, 76, 69, 65, 68, 71, 64, 68, 65],\n",
       "  [10, 77, 71, 75, 63, 67, 67, 67, 64, 60],\n",
       "  [10, 67, 77, 65, 71, 67, 65, 72, 63, 67],\n",
       "  [10, 74, 71, 63, 70, 69, 66, 63, 59, 60]],\n",
       " [[22, 60, 68, 60, 68, 67, 64, 64, 64, 62],\n",
       "  [11, 64, 68, 66, 68, 68, 62, 64, 67, 63],\n",
       "  [11, 69, 72, 62, 65, 66, 63, 66, 61, 65],\n",
       "  [10, 73, 65, 63, 72, 70, 65, 64, 65, 68],\n",
       "  [11, 71, 70, 63, 68, 68, 67, 69, 68, 68],\n",
       "  [10, 74, 76, 67, 66, 63, 64, 64, 67, 68],\n",
       "  [10, 75, 67, 67, 62, 66, 63, 62, 72, 65],\n",
       "  [11, 70, 77, 73, 71, 64, 69, 67, 60, 66],\n",
       "  [10, 75, 69, 80, 62, 71, 70, 60, 63, 66],\n",
       "  [9, 72, 70, 68, 67, 69, 65, 65, 65, 65]],\n",
       " [[21, 69, 68, 69, 64, 67, 66, 64, 71, 66],\n",
       "  [12, 73, 74, 71, 63, 67, 64, 76, 64, 67],\n",
       "  [12, 64, 72, 63, 59, 62, 67, 62, 70, 67],\n",
       "  [10, 80, 71, 66, 67, 65, 67, 63, 67, 70],\n",
       "  [11, 71, 69, 64, 68, 63, 66, 62, 63, 72],\n",
       "  [10, 79, 64, 67, 64, 68, 62, 66, 65, 66],\n",
       "  [10, 70, 73, 72, 68, 74, 68, 67, 59, 65],\n",
       "  [10, 79, 73, 69, 69, 64, 66, 64, 67, 65],\n",
       "  [9, 70, 80, 64, 75, 67, 67, 63, 66, 71],\n",
       "  [10, 75, 75, 67, 62, 67, 64, 66, 66, 67]],\n",
       " [[20, 59, 76, 64, 65, 66, 72, 74, 61, 65],\n",
       "  [13, 66, 67, 70, 75, 69, 66, 65, 67, 65],\n",
       "  [11, 72, 68, 71, 66, 68, 68, 65, 64, 64],\n",
       "  [11, 71, 60, 65, 65, 62, 71, 71, 67, 64],\n",
       "  [11, 72, 67, 67, 64, 66, 64, 64, 62, 71],\n",
       "  [9, 77, 70, 70, 75, 68, 66, 69, 65, 61],\n",
       "  [11, 71, 72, 66, 72, 69, 70, 71, 66, 63],\n",
       "  [10, 76, 65, 65, 63, 70, 74, 67, 64, 65],\n",
       "  [11, 73, 74, 68, 69, 70, 69, 62, 69, 70],\n",
       "  [10, 75, 73, 73, 69, 67, 67, 75, 63, 69]],\n",
       " [[20, 70, 75, 62, 64, 65, 69, 66, 68, 60],\n",
       "  [13, 77, 70, 64, 62, 63, 59, 66, 67, 69],\n",
       "  [12, 68, 72, 67, 67, 62, 68, 70, 66, 62],\n",
       "  [11, 74, 67, 69, 70, 71, 60, 69, 69, 61],\n",
       "  [11, 78, 71, 64, 68, 65, 68, 67, 70, 66],\n",
       "  [10, 74, 66, 66, 68, 62, 66, 64, 64, 70],\n",
       "  [10, 75, 69, 74, 68, 62, 67, 70, 64, 67],\n",
       "  [11, 68, 70, 72, 67, 70, 69, 66, 68, 68],\n",
       "  [10, 74, 76, 69, 63, 65, 69, 67, 71, 69],\n",
       "  [10, 72, 72, 69, 62, 67, 62, 66, 68, 72]],\n",
       " [[20, 71, 72, 63, 69, 68, 75, 64, 64, 72],\n",
       "  [13, 70, 65, 70, 68, 64, 72, 62, 68, 66],\n",
       "  [12, 69, 59, 63, 66, 73, 64, 66, 68, 65],\n",
       "  [11, 75, 72, 65, 72, 60, 63, 63, 62, 72],\n",
       "  [10, 63, 70, 68, 65, 70, 69, 70, 64, 62],\n",
       "  [11, 80, 68, 68, 72, 70, 58, 64, 73, 69],\n",
       "  [10, 78, 72, 67, 66, 68, 70, 73, 67, 70],\n",
       "  [10, 75, 77, 67, 64, 72, 65, 66, 66, 70],\n",
       "  [11, 71, 69, 67, 70, 72, 72, 63, 70, 71],\n",
       "  [9, 72, 72, 64, 79, 70, 61, 71, 64, 66]]]"
      ]
     },
     "execution_count": 95,
     "metadata": {},
     "output_type": "execute_result"
    }
   ],
   "source": [
    "OPT_arr5"
   ]
  },
  {
   "cell_type": "code",
   "execution_count": 96,
   "id": "93b7ae8d-2173-4dfb-b33f-ff948360beb8",
   "metadata": {},
   "outputs": [],
   "source": [
    "OPT_arr6 = []\n",
    "for p in range(10):\n",
    "    P = []\n",
    "    for i in range(10):\n",
    "        I = []\n",
    "        for d in range(10):\n",
    "            I.append(PID_opt_fun_mean(p/10, i*100, d*10))\n",
    "        P.append(I)\n",
    "    OPT_arr6.append(P)"
   ]
  },
  {
   "cell_type": "code",
   "execution_count": 97,
   "id": "59d6cf6a-b84c-4deb-ac75-a3a856728e5e",
   "metadata": {},
   "outputs": [
    {
     "data": {
      "text/plain": [
       "[[[6, 65, 62, 67, 67, 71, 60, 69, 63, 72],\n",
       "  [9, 75, 66, 72, 67, 69, 62, 66, 67, 70],\n",
       "  [10, 74, 77, 75, 72, 72, 67, 71, 77, 69],\n",
       "  [9, 80, 78, 72, 77, 77, 67, 63, 72, 62],\n",
       "  [10, 73, 99, 78, 70, 82, 64, 71, 72, 70],\n",
       "  [9, 78, 84, 79, 74, 73, 77, 65, 69, 77],\n",
       "  [10, 86, 80, 74, 78, 81, 76, 76, 75, 74],\n",
       "  [10, 76, 88, 83, 89, 84, 83, 76, 79, 71],\n",
       "  [10, 67, 90, 83, 81, 83, 72, 73, 77, 72],\n",
       "  [9, 73, 83, 84, 91, 85, 78, 77, 73, 75]],\n",
       " [[20, 64, 68, 65, 65, 63, 69, 67, 63, 68],\n",
       "  [9, 74, 74, 69, 74, 67, 70, 73, 61, 70],\n",
       "  [10, 74, 74, 75, 72, 68, 65, 71, 65, 66],\n",
       "  [10, 82, 79, 78, 77, 70, 69, 70, 69, 68],\n",
       "  [10, 96, 83, 74, 80, 75, 70, 64, 79, 70],\n",
       "  [10, 90, 77, 81, 74, 78, 75, 67, 75, 74],\n",
       "  [10, 84, 80, 72, 70, 78, 71, 76, 67, 74],\n",
       "  [10, 74, 79, 88, 86, 78, 75, 74, 70, 72],\n",
       "  [9, 69, 84, 85, 82, 65, 78, 73, 79, 78],\n",
       "  [10, 71, 85, 79, 81, 78, 88, 82, 80, 83]],\n",
       " [[22, 64, 62, 69, 65, 62, 61, 67, 74, 62],\n",
       "  [9, 68, 66, 72, 65, 72, 67, 69, 70, 68],\n",
       "  [9, 79, 77, 75, 67, 74, 69, 67, 67, 66],\n",
       "  [10, 88, 79, 70, 73, 80, 74, 69, 60, 72],\n",
       "  [9, 80, 79, 73, 80, 69, 72, 67, 74, 71],\n",
       "  [9, 91, 80, 75, 81, 68, 71, 71, 74, 73],\n",
       "  [10, 75, 90, 83, 77, 77, 65, 65, 82, 72],\n",
       "  [9, 80, 84, 91, 81, 87, 72, 71, 66, 70],\n",
       "  [9, 67, 89, 78, 86, 82, 77, 71, 75, 78],\n",
       "  [10, 66, 84, 94, 72, 87, 81, 69, 75, 73]],\n",
       " [[21, 69, 65, 66, 67, 65, 68, 61, 67, 67],\n",
       "  [11, 73, 65, 72, 67, 66, 66, 67, 69, 65],\n",
       "  [10, 75, 77, 69, 72, 62, 71, 71, 67, 66],\n",
       "  [10, 85, 80, 83, 74, 70, 75, 66, 70, 67],\n",
       "  [9, 82, 82, 85, 72, 72, 60, 74, 74, 73],\n",
       "  [10, 92, 84, 81, 77, 68, 75, 67, 82, 71],\n",
       "  [9, 79, 88, 78, 73, 72, 78, 73, 69, 72],\n",
       "  [11, 79, 86, 87, 77, 83, 76, 81, 72, 78],\n",
       "  [9, 74, 84, 85, 75, 72, 85, 80, 80, 78],\n",
       "  [9, 68, 75, 89, 77, 84, 73, 74, 65, 77]],\n",
       " [[20, 63, 65, 68, 67, 63, 65, 59, 67, 67],\n",
       "  [10, 70, 72, 68, 66, 68, 65, 62, 65, 70],\n",
       "  [11, 81, 70, 75, 75, 70, 76, 65, 71, 73],\n",
       "  [9, 83, 69, 70, 71, 63, 65, 71, 75, 73],\n",
       "  [9, 90, 68, 76, 79, 72, 71, 66, 69, 73],\n",
       "  [10, 83, 87, 77, 79, 75, 79, 66, 66, 67],\n",
       "  [10, 81, 81, 76, 74, 72, 77, 73, 68, 67],\n",
       "  [9, 73, 77, 84, 70, 71, 76, 76, 76, 78],\n",
       "  [10, 70, 85, 74, 91, 77, 78, 82, 75, 79],\n",
       "  [10, 64, 89, 88, 82, 83, 85, 76, 66, 72]],\n",
       " [[22, 64, 65, 67, 62, 63, 66, 66, 68, 64],\n",
       "  [10, 75, 74, 64, 68, 71, 64, 62, 71, 63],\n",
       "  [11, 78, 67, 76, 68, 73, 67, 69, 67, 66],\n",
       "  [9, 90, 77, 72, 70, 71, 61, 79, 63, 66],\n",
       "  [10, 83, 71, 64, 69, 66, 80, 68, 68, 65],\n",
       "  [10, 90, 77, 80, 82, 78, 73, 85, 74, 70],\n",
       "  [9, 85, 84, 84, 81, 83, 78, 79, 70, 72],\n",
       "  [9, 74, 89, 82, 82, 73, 75, 73, 67, 73],\n",
       "  [9, 75, 87, 85, 84, 74, 80, 78, 71, 72],\n",
       "  [10, 76, 79, 91, 85, 75, 79, 81, 77, 74]],\n",
       " [[22, 73, 67, 64, 68, 67, 66, 65, 70, 70],\n",
       "  [11, 71, 71, 71, 65, 60, 66, 66, 65, 64],\n",
       "  [9, 85, 79, 72, 69, 69, 67, 75, 75, 65],\n",
       "  [10, 87, 76, 67, 78, 69, 69, 76, 67, 67],\n",
       "  [10, 83, 80, 74, 70, 76, 68, 66, 73, 75],\n",
       "  [9, 78, 80, 85, 69, 74, 76, 67, 69, 71],\n",
       "  [10, 82, 88, 79, 76, 75, 74, 76, 67, 73],\n",
       "  [10, 81, 89, 92, 85, 76, 72, 68, 78, 83],\n",
       "  [10, 70, 88, 79, 80, 77, 72, 70, 84, 78],\n",
       "  [10, 68, 88, 86, 76, 84, 78, 77, 78, 75]],\n",
       " [[22, 72, 72, 66, 62, 66, 65, 66, 67, 67],\n",
       "  [10, 68, 79, 70, 68, 65, 70, 69, 66, 75],\n",
       "  [9, 79, 70, 74, 68, 71, 70, 67, 69, 64],\n",
       "  [10, 83, 79, 75, 70, 77, 73, 70, 70, 69],\n",
       "  [10, 83, 84, 77, 70, 80, 74, 75, 68, 65],\n",
       "  [10, 86, 77, 73, 78, 73, 73, 72, 72, 66],\n",
       "  [10, 84, 91, 76, 73, 81, 72, 72, 74, 72],\n",
       "  [10, 79, 86, 82, 74, 80, 71, 77, 77, 71],\n",
       "  [9, 71, 94, 90, 87, 79, 74, 79, 69, 79],\n",
       "  [9, 68, 85, 86, 79, 81, 65, 84, 71, 71]],\n",
       " [[22, 64, 62, 65, 67, 70, 63, 59, 66, 62],\n",
       "  [10, 80, 68, 68, 71, 67, 66, 68, 62, 67],\n",
       "  [10, 77, 72, 66, 72, 69, 64, 66, 66, 70],\n",
       "  [10, 86, 76, 77, 75, 70, 76, 62, 66, 71],\n",
       "  [10, 90, 74, 76, 72, 78, 72, 66, 68, 68],\n",
       "  [10, 82, 78, 90, 73, 70, 79, 72, 69, 83],\n",
       "  [10, 85, 81, 80, 76, 76, 79, 69, 64, 68],\n",
       "  [9, 81, 91, 85, 76, 76, 79, 76, 70, 78],\n",
       "  [9, 73, 92, 89, 75, 70, 91, 77, 78, 74],\n",
       "  [10, 65, 79, 82, 91, 64, 70, 77, 74, 66]],\n",
       " [[21, 72, 72, 68, 65, 65, 65, 66, 64, 66],\n",
       "  [10, 76, 70, 66, 68, 67, 62, 67, 67, 71],\n",
       "  [10, 85, 72, 71, 78, 74, 69, 65, 71, 70],\n",
       "  [10, 79, 85, 70, 75, 75, 70, 67, 62, 71],\n",
       "  [10, 86, 80, 80, 74, 78, 72, 74, 65, 72],\n",
       "  [10, 81, 89, 81, 80, 72, 82, 67, 74, 66],\n",
       "  [9, 77, 85, 88, 78, 74, 76, 78, 74, 68],\n",
       "  [9, 75, 75, 77, 80, 64, 78, 67, 74, 73],\n",
       "  [10, 72, 88, 79, 79, 77, 73, 78, 87, 71],\n",
       "  [9, 68, 75, 79, 84, 80, 78, 76, 87, 76]]]"
      ]
     },
     "execution_count": 97,
     "metadata": {},
     "output_type": "execute_result"
    }
   ],
   "source": [
    "OPT_arr6"
   ]
  },
  {
   "cell_type": "code",
   "execution_count": 98,
   "id": "07c2992b-0fe8-4683-a053-9c328f9ec5ae",
   "metadata": {},
   "outputs": [],
   "source": [
    "OPT_arr7 = []\n",
    "for p in range(10):\n",
    "    P = []\n",
    "    for i in range(10):\n",
    "        I = []\n",
    "        for d in range(10):\n",
    "            I.append(PID_opt_fun_mean(p, i*100, d*10))\n",
    "        P.append(I)\n",
    "    OPT_arr7.append(P)"
   ]
  },
  {
   "cell_type": "code",
   "execution_count": 99,
   "id": "e8004ae4-65a4-454e-87c1-f74fe490455d",
   "metadata": {},
   "outputs": [
    {
     "data": {
      "text/plain": [
       "[[[6, 63, 66, 67, 64, 63, 67, 67, 68, 67],\n",
       "  [10, 76, 73, 64, 72, 71, 62, 67, 67, 66],\n",
       "  [10, 81, 76, 75, 67, 67, 71, 68, 68, 73],\n",
       "  [9, 82, 80, 73, 70, 72, 68, 65, 71, 71],\n",
       "  [10, 86, 87, 78, 71, 73, 71, 75, 74, 68],\n",
       "  [9, 84, 72, 79, 78, 69, 77, 69, 69, 77],\n",
       "  [10, 85, 78, 81, 82, 72, 85, 79, 75, 71],\n",
       "  [9, 71, 95, 86, 72, 73, 71, 69, 86, 78],\n",
       "  [9, 70, 90, 92, 79, 71, 78, 77, 66, 79],\n",
       "  [10, 64, 84, 89, 84, 80, 84, 75, 76, 73]],\n",
       " [[21, 75, 68, 65, 74, 65, 69, 60, 73, 68],\n",
       "  [10, 81, 69, 70, 68, 71, 63, 70, 63, 68],\n",
       "  [10, 77, 72, 68, 74, 68, 70, 69, 62, 77],\n",
       "  [9, 81, 73, 77, 65, 80, 78, 72, 67, 71],\n",
       "  [9, 90, 65, 68, 69, 80, 65, 71, 68, 72],\n",
       "  [9, 89, 79, 79, 74, 86, 63, 67, 69, 66],\n",
       "  [9, 85, 87, 81, 71, 78, 82, 77, 82, 67],\n",
       "  [10, 75, 84, 84, 79, 77, 75, 76, 76, 73],\n",
       "  [9, 76, 89, 81, 86, 83, 77, 81, 73, 76],\n",
       "  [10, 60, 86, 80, 74, 78, 83, 70, 79, 84]],\n",
       " [[20, 77, 68, 64, 62, 74, 62, 67, 63, 68],\n",
       "  [11, 76, 73, 70, 67, 75, 63, 70, 67, 66],\n",
       "  [10, 82, 80, 75, 69, 80, 65, 70, 67, 62],\n",
       "  [10, 71, 82, 81, 70, 74, 71, 78, 71, 64],\n",
       "  [10, 82, 77, 88, 74, 72, 74, 76, 72, 72],\n",
       "  [10, 87, 86, 80, 83, 72, 68, 77, 81, 72],\n",
       "  [9, 81, 80, 81, 68, 82, 78, 74, 72, 77],\n",
       "  [9, 83, 82, 82, 70, 75, 71, 63, 77, 72],\n",
       "  [10, 78, 87, 83, 83, 82, 80, 71, 79, 71],\n",
       "  [10, 71, 87, 82, 83, 82, 75, 79, 74, 83]],\n",
       " [[20, 75, 75, 74, 74, 63, 62, 69, 68, 63],\n",
       "  [11, 75, 76, 72, 62, 72, 68, 75, 66, 60],\n",
       "  [10, 75, 67, 72, 66, 64, 80, 72, 71, 71],\n",
       "  [10, 87, 65, 77, 64, 76, 74, 68, 73, 70],\n",
       "  [10, 86, 79, 71, 84, 72, 74, 84, 70, 67],\n",
       "  [9, 77, 81, 86, 80, 79, 74, 75, 76, 70],\n",
       "  [10, 85, 84, 83, 74, 69, 68, 67, 77, 77],\n",
       "  [10, 89, 80, 79, 72, 73, 87, 78, 77, 69],\n",
       "  [10, 76, 85, 80, 80, 79, 74, 76, 77, 73],\n",
       "  [10, 72, 85, 83, 69, 83, 69, 78, 71, 78]],\n",
       " [[19, 73, 75, 80, 68, 64, 65, 67, 64, 75],\n",
       "  [12, 59, 72, 71, 70, 70, 72, 65, 64, 68],\n",
       "  [11, 62, 65, 75, 74, 75, 78, 65, 66, 65],\n",
       "  [11, 76, 71, 79, 82, 77, 72, 71, 71, 73],\n",
       "  [10, 78, 81, 71, 78, 81, 73, 68, 71, 73],\n",
       "  [11, 91, 76, 78, 75, 80, 67, 76, 71, 62],\n",
       "  [10, 91, 75, 81, 69, 76, 79, 71, 73, 75],\n",
       "  [9, 80, 78, 89, 77, 73, 74, 73, 70, 70],\n",
       "  [10, 80, 88, 75, 82, 69, 79, 73, 70, 74],\n",
       "  [10, 75, 87, 81, 82, 84, 83, 79, 80, 65]],\n",
       " [[21, 58, 72, 67, 68, 64, 69, 66, 70, 68],\n",
       "  [11, 70, 74, 68, 75, 73, 76, 73, 70, 71],\n",
       "  [12, 74, 75, 79, 67, 78, 81, 73, 69, 76],\n",
       "  [11, 79, 88, 71, 77, 68, 65, 68, 67, 68],\n",
       "  [10, 86, 81, 70, 80, 85, 68, 73, 70, 69],\n",
       "  [10, 88, 83, 78, 76, 73, 68, 70, 74, 74],\n",
       "  [11, 96, 67, 88, 69, 88, 81, 74, 74, 63],\n",
       "  [11, 85, 84, 87, 74, 70, 76, 73, 67, 72],\n",
       "  [10, 84, 82, 78, 83, 72, 79, 76, 72, 76],\n",
       "  [11, 78, 83, 90, 70, 90, 74, 81, 79, 68]],\n",
       " [[20, 52, 67, 75, 71, 68, 72, 70, 72, 70],\n",
       "  [13, 62, 80, 65, 77, 67, 72, 71, 69, 67],\n",
       "  [11, 68, 74, 75, 73, 72, 70, 75, 70, 62],\n",
       "  [11, 57, 64, 70, 81, 71, 72, 79, 76, 69],\n",
       "  [10, 76, 67, 78, 78, 69, 65, 73, 75, 75],\n",
       "  [10, 82, 77, 71, 77, 75, 76, 67, 66, 71],\n",
       "  [10, 86, 75, 81, 70, 79, 74, 85, 67, 81],\n",
       "  [10, 91, 85, 73, 78, 81, 74, 75, 75, 73],\n",
       "  [10, 91, 73, 87, 69, 68, 77, 79, 78, 74],\n",
       "  [11, 81, 88, 88, 73, 67, 71, 76, 77, 76]],\n",
       " [[21, 54, 81, 74, 71, 72, 70, 69, 78, 65],\n",
       "  [14, 61, 77, 68, 77, 65, 75, 70, 71, 68],\n",
       "  [11, 62, 70, 75, 78, 74, 73, 75, 71, 79],\n",
       "  [11, 63, 75, 65, 76, 76, 70, 68, 72, 64],\n",
       "  [10, 71, 66, 76, 81, 71, 77, 64, 76, 72],\n",
       "  [9, 70, 73, 77, 75, 76, 82, 76, 75, 73],\n",
       "  [10, 88, 85, 79, 71, 72, 71, 80, 72, 80],\n",
       "  [10, 83, 86, 69, 69, 65, 71, 79, 78, 82],\n",
       "  [11, 87, 82, 91, 84, 75, 79, 75, 75, 83],\n",
       "  [9, 81, 85, 87, 74, 72, 69, 77, 77, 66]],\n",
       " [[21, 68, 70, 70, 77, 68, 69, 74, 68, 68],\n",
       "  [12, 56, 75, 72, 70, 74, 76, 71, 70, 62],\n",
       "  [12, 63, 66, 73, 79, 75, 71, 69, 66, 74],\n",
       "  [11, 66, 73, 73, 70, 73, 83, 66, 73, 69],\n",
       "  [11, 66, 67, 85, 68, 71, 73, 66, 64, 72],\n",
       "  [10, 82, 68, 70, 66, 72, 76, 70, 75, 71],\n",
       "  [10, 78, 83, 76, 84, 68, 81, 82, 72, 78],\n",
       "  [11, 89, 89, 77, 69, 73, 73, 78, 76, 67],\n",
       "  [10, 88, 83, 83, 73, 77, 74, 81, 65, 76],\n",
       "  [10, 89, 83, 89, 82, 79, 80, 70, 84, 70]],\n",
       " [[22, 67, 65, 69, 69, 81, 70, 76, 77, 66],\n",
       "  [13, 61, 63, 75, 79, 75, 76, 77, 71, 73],\n",
       "  [11, 68, 72, 79, 75, 82, 69, 68, 75, 68],\n",
       "  [12, 65, 74, 79, 75, 67, 78, 81, 71, 75],\n",
       "  [11, 68, 70, 66, 73, 71, 72, 82, 81, 73],\n",
       "  [11, 77, 65, 68, 71, 73, 69, 70, 76, 71],\n",
       "  [10, 77, 71, 74, 72, 72, 75, 69, 86, 85],\n",
       "  [10, 90, 72, 71, 80, 76, 67, 59, 75, 71],\n",
       "  [10, 82, 71, 65, 81, 79, 75, 76, 68, 66],\n",
       "  [11, 96, 76, 85, 65, 84, 72, 78, 72, 84]]]"
      ]
     },
     "execution_count": 99,
     "metadata": {},
     "output_type": "execute_result"
    }
   ],
   "source": [
    "OPT_arr7"
   ]
  },
  {
   "cell_type": "code",
   "execution_count": 100,
   "id": "9bf92cb5-56ba-46ae-8af3-126fa8db291b",
   "metadata": {},
   "outputs": [],
   "source": [
    "OPT_arr8 = []\n",
    "for p in range(10):\n",
    "    P = []\n",
    "    for i in range(10):\n",
    "        I = []\n",
    "        for d in range(10):\n",
    "            I.append(PID_opt_fun_mean(10*p, i*100, d*10))\n",
    "        P.append(I)\n",
    "    OPT_arr8.append(P)"
   ]
  },
  {
   "cell_type": "code",
   "execution_count": 101,
   "id": "8cc70865-92ba-4d78-85a8-ac324db2bb0e",
   "metadata": {},
   "outputs": [
    {
     "data": {
      "text/plain": [
       "[[[6, 65, 64, 63, 64, 65, 64, 67, 69, 61],\n",
       "  [10, 75, 77, 64, 67, 68, 67, 66, 69, 68],\n",
       "  [10, 81, 78, 65, 64, 65, 65, 70, 64, 70],\n",
       "  [11, 81, 75, 74, 68, 67, 66, 63, 66, 67],\n",
       "  [10, 81, 83, 75, 78, 73, 82, 70, 68, 65],\n",
       "  [9, 80, 70, 84, 79, 77, 77, 69, 73, 76],\n",
       "  [9, 82, 81, 88, 72, 81, 65, 64, 73, 67],\n",
       "  [10, 78, 88, 94, 87, 77, 71, 80, 69, 69],\n",
       "  [10, 79, 81, 83, 74, 74, 80, 65, 81, 74],\n",
       "  [10, 69, 86, 84, 85, 82, 77, 78, 74, 72]],\n",
       " [[20, 53, 68, 74, 77, 67, 74, 74, 76, 70],\n",
       "  [15, 57, 74, 67, 70, 68, 70, 74, 76, 70],\n",
       "  [11, 61, 54, 76, 90, 79, 77, 75, 74, 74],\n",
       "  [10, 57, 72, 66, 71, 78, 75, 73, 72, 71],\n",
       "  [10, 65, 70, 81, 71, 75, 63, 74, 81, 66],\n",
       "  [11, 77, 65, 71, 80, 78, 80, 69, 73, 68],\n",
       "  [10, 77, 64, 71, 78, 71, 64, 79, 71, 75],\n",
       "  [11, 75, 85, 70, 72, 63, 75, 75, 70, 64],\n",
       "  [10, 84, 86, 78, 73, 70, 75, 81, 66, 83],\n",
       "  [10, 77, 88, 82, 78, 80, 76, 74, 70, 73]],\n",
       " [[19, 42, 50, 43, 71, 68, 74, 75, 79, 66],\n",
       "  [14, 57, 54, 55, 75, 77, 70, 80, 74, 64],\n",
       "  [12, 56, 56, 57, 67, 75, 76, 76, 70, 71],\n",
       "  [12, 64, 65, 70, 70, 61, 72, 78, 68, 72],\n",
       "  [12, 47, 66, 69, 68, 51, 74, 75, 74, 76],\n",
       "  [12, 63, 72, 63, 65, 69, 74, 79, 81, 77],\n",
       "  [12, 66, 50, 57, 64, 59, 72, 66, 68, 77],\n",
       "  [11, 59, 58, 66, 76, 72, 64, 61, 71, 75],\n",
       "  [11, 54, 66, 61, 82, 66, 76, 63, 68, 73],\n",
       "  [10, 62, 68, 80, 71, 67, 64, 69, 76, 72]],\n",
       " [[21, 61, 59, 54, 62, 58, 68, 72, 74, 81],\n",
       "  [16, 51, 55, 48, 56, 50, 63, 63, 59, 69],\n",
       "  [14, 55, 47, 61, 63, 69, 65, 67, 83, 78],\n",
       "  [13, 56, 55, 53, 55, 59, 58, 68, 78, 68],\n",
       "  [13, 73, 56, 59, 56, 58, 61, 68, 70, 72],\n",
       "  [13, 65, 51, 65, 65, 69, 71, 68, 75, 69],\n",
       "  [12, 45, 49, 59, 65, 67, 67, 70, 85, 67],\n",
       "  [12, 63, 59, 61, 64, 58, 60, 66, 79, 75],\n",
       "  [11, 59, 67, 60, 70, 68, 62, 66, 75, 72],\n",
       "  [11, 62, 63, 60, 67, 59, 64, 62, 65, 71]],\n",
       " [[20, 61, 52, 51, 64, 63, 58, 69, 64, 66],\n",
       "  [17, 47, 52, 55, 53, 54, 52, 61, 64, 62],\n",
       "  [14, 44, 58, 49, 61, 52, 58, 61, 72, 67],\n",
       "  [15, 49, 48, 46, 55, 57, 54, 60, 75, 71],\n",
       "  [12, 60, 55, 59, 71, 58, 65, 58, 59, 70],\n",
       "  [12, 62, 56, 56, 59, 54, 60, 64, 64, 69],\n",
       "  [12, 44, 68, 47, 62, 61, 61, 67, 62, 75],\n",
       "  [12, 53, 62, 56, 64, 64, 64, 65, 64, 68],\n",
       "  [11, 55, 49, 61, 62, 52, 54, 64, 66, 70],\n",
       "  [11, 61, 70, 55, 56, 54, 73, 63, 66, 62]],\n",
       " [[22, 51, 61, 58, 43, 60, 52, 60, 57, 50],\n",
       "  [17, 54, 46, 43, 59, 58, 51, 59, 63, 55],\n",
       "  [16, 47, 48, 49, 55, 54, 48, 58, 56, 60],\n",
       "  [14, 54, 44, 61, 49, 54, 51, 68, 65, 64],\n",
       "  [14, 65, 38, 45, 66, 56, 53, 52, 57, 54],\n",
       "  [13, 56, 52, 52, 65, 49, 48, 56, 62, 57],\n",
       "  [12, 55, 52, 45, 46, 53, 57, 55, 59, 63],\n",
       "  [13, 57, 62, 64, 57, 49, 58, 58, 63, 55],\n",
       "  [13, 60, 58, 54, 55, 53, 65, 69, 56, 65],\n",
       "  [11, 65, 50, 55, 61, 58, 61, 60, 66, 59]],\n",
       " [[23, 61, 60, 58, 48, 57, 52, 43, 49, 59],\n",
       "  [18, 45, 54, 50, 54, 55, 58, 58, 52, 46],\n",
       "  [16, 59, 52, 58, 47, 44, 56, 53, 57, 69],\n",
       "  [15, 44, 53, 42, 50, 46, 49, 49, 56, 69],\n",
       "  [15, 59, 52, 43, 51, 54, 64, 54, 62, 57],\n",
       "  [13, 61, 61, 50, 47, 69, 48, 61, 52, 62],\n",
       "  [13, 50, 63, 47, 45, 48, 52, 66, 55, 54],\n",
       "  [13, 60, 58, 44, 65, 54, 44, 56, 59, 52],\n",
       "  [12, 45, 49, 56, 51, 51, 60, 58, 67, 57],\n",
       "  [12, 62, 67, 44, 46, 60, 57, 40, 73, 49]],\n",
       " [[19, 52, 67, 57, 52, 59, 60, 41, 54, 58],\n",
       "  [18, 55, 44, 50, 48, 62, 56, 53, 58, 56],\n",
       "  [18, 61, 49, 61, 60, 50, 57, 51, 63, 50],\n",
       "  [15, 61, 56, 55, 63, 43, 51, 57, 60, 60],\n",
       "  [15, 70, 49, 50, 57, 47, 48, 51, 58, 54],\n",
       "  [14, 60, 53, 58, 54, 55, 48, 61, 61, 68],\n",
       "  [15, 62, 49, 67, 55, 69, 53, 51, 60, 59],\n",
       "  [13, 58, 44, 45, 60, 54, 49, 53, 61, 63],\n",
       "  [12, 56, 58, 53, 47, 51, 64, 50, 61, 56],\n",
       "  [12, 58, 51, 45, 55, 50, 55, 56, 54, 55]],\n",
       " [[19, 43, 54, 53, 51, 54, 63, 53, 54, 52],\n",
       "  [17, 76, 49, 56, 59, 56, 51, 65, 48, 47],\n",
       "  [17, 68, 56, 58, 54, 43, 60, 52, 55, 62],\n",
       "  [14, 43, 56, 52, 53, 57, 46, 61, 53, 59],\n",
       "  [14, 62, 54, 49, 56, 62, 52, 52, 49, 56],\n",
       "  [16, 59, 48, 56, 57, 51, 49, 57, 58, 64],\n",
       "  [15, 63, 59, 55, 50, 65, 61, 48, 53, 54],\n",
       "  [14, 55, 51, 57, 42, 59, 46, 45, 50, 62],\n",
       "  [13, 71, 64, 54, 49, 59, 42, 58, 55, 61],\n",
       "  [13, 51, 66, 53, 48, 54, 51, 59, 52, 55]],\n",
       " [[19, 59, 51, 61, 57, 54, 55, 52, 48, 46],\n",
       "  [18, 44, 55, 51, 52, 53, 53, 55, 51, 57],\n",
       "  [18, 55, 44, 67, 59, 47, 53, 62, 45, 67],\n",
       "  [15, 53, 47, 51, 59, 60, 48, 51, 55, 58],\n",
       "  [16, 52, 52, 55, 48, 51, 50, 52, 55, 51],\n",
       "  [15, 56, 49, 54, 50, 43, 62, 47, 59, 47],\n",
       "  [14, 53, 53, 51, 53, 53, 48, 58, 49, 50],\n",
       "  [14, 61, 46, 48, 54, 57, 42, 54, 52, 55],\n",
       "  [13, 61, 62, 55, 59, 57, 59, 60, 52, 52],\n",
       "  [13, 51, 59, 49, 54, 64, 68, 52, 45, 61]]]"
      ]
     },
     "execution_count": 101,
     "metadata": {},
     "output_type": "execute_result"
    }
   ],
   "source": [
    "OPT_arr8"
   ]
  },
  {
   "cell_type": "code",
   "execution_count": 102,
   "id": "376e17cb-37d0-46cc-9d3f-bf39c23033ec",
   "metadata": {},
   "outputs": [],
   "source": [
    "OPT_arr9 = []\n",
    "for p in range(10):\n",
    "    P = []\n",
    "    for i in range(10):\n",
    "        I = []\n",
    "        for d in range(10):\n",
    "            I.append(PID_opt_fun_mean(p, i*100, d))\n",
    "        P.append(I)\n",
    "    OPT_arr9.append(P)"
   ]
  },
  {
   "cell_type": "code",
   "execution_count": 103,
   "id": "ca825f92-a924-4d50-9bce-f1783965fd80",
   "metadata": {},
   "outputs": [
    {
     "data": {
      "text/plain": [
       "[[[6, 64, 65, 67, 62, 68, 62, 60, 68, 70],\n",
       "  [10, 69, 77, 86, 89, 71, 74, 75, 77, 80],\n",
       "  [10, 40, 63, 81, 77, 76, 89, 87, 88, 81],\n",
       "  [10, 33, 52, 66, 79, 86, 85, 96, 87, 87],\n",
       "  [9, 26, 43, 55, 63, 71, 80, 80, 90, 83],\n",
       "  [10, 20, 39, 50, 55, 63, 63, 70, 84, 80],\n",
       "  [10, 18, 31, 44, 52, 60, 64, 71, 81, 76],\n",
       "  [10, 17, 27, 39, 46, 53, 60, 64, 70, 70],\n",
       "  [9, 16, 27, 32, 44, 51, 55, 55, 63, 71],\n",
       "  [10, 13, 23, 28, 36, 48, 51, 54, 63, 68]],\n",
       " [[19, 66, 70, 71, 75, 71, 71, 71, 73, 67],\n",
       "  [11, 82, 86, 79, 73, 84, 72, 80, 80, 68],\n",
       "  [9, 49, 72, 85, 97, 88, 87, 78, 84, 74],\n",
       "  [9, 32, 56, 74, 73, 81, 93, 85, 79, 83],\n",
       "  [11, 23, 48, 57, 69, 74, 87, 87, 87, 88],\n",
       "  [10, 22, 40, 55, 59, 68, 73, 75, 71, 81],\n",
       "  [9, 18, 31, 45, 58, 64, 77, 71, 75, 75],\n",
       "  [10, 17, 28, 38, 49, 53, 65, 76, 71, 73],\n",
       "  [9, 18, 25, 36, 43, 55, 58, 59, 66, 70],\n",
       "  [9, 15, 22, 33, 43, 44, 54, 58, 64, 67]],\n",
       " [[21, 47, 49, 52, 61, 68, 69, 79, 78, 72],\n",
       "  [11, 58, 74, 67, 69, 65, 76, 61, 70, 67],\n",
       "  [10, 55, 81, 78, 79, 78, 74, 85, 84, 78],\n",
       "  [10, 35, 67, 75, 81, 90, 86, 81, 82, 87],\n",
       "  [9, 28, 49, 61, 75, 87, 83, 91, 86, 89],\n",
       "  [9, 23, 39, 55, 66, 70, 84, 84, 87, 92],\n",
       "  [10, 18, 34, 45, 58, 64, 66, 80, 78, 81],\n",
       "  [10, 19, 32, 38, 48, 57, 65, 71, 76, 77],\n",
       "  [10, 16, 27, 36, 47, 53, 56, 64, 68, 66],\n",
       "  [9, 15, 23, 35, 39, 46, 45, 61, 64, 70]],\n",
       " [[21, 46, 51, 43, 55, 65, 64, 68, 73, 73],\n",
       "  [11, 65, 59, 64, 61, 72, 61, 65, 67, 71],\n",
       "  [10, 77, 93, 87, 80, 71, 78, 73, 73, 75],\n",
       "  [10, 44, 74, 84, 93, 88, 84, 91, 90, 70],\n",
       "  [10, 30, 55, 72, 80, 80, 91, 82, 89, 78],\n",
       "  [9, 21, 42, 58, 72, 73, 89, 80, 86, 90],\n",
       "  [10, 20, 35, 51, 63, 63, 76, 81, 84, 87],\n",
       "  [9, 17, 29, 43, 52, 63, 69, 73, 83, 78],\n",
       "  [10, 16, 28, 37, 48, 56, 63, 64, 74, 70],\n",
       "  [10, 16, 23, 34, 42, 50, 61, 67, 68, 64]],\n",
       " [[20, 57, 60, 62, 62, 47, 55, 65, 70, 71],\n",
       "  [12, 50, 61, 63, 58, 60, 58, 65, 57, 67],\n",
       "  [11, 76, 58, 86, 78, 65, 69, 68, 78, 68],\n",
       "  [10, 43, 78, 85, 100, 82, 81, 87, 77, 73],\n",
       "  [10, 30, 57, 73, 80, 88, 94, 88, 79, 93],\n",
       "  [10, 22, 42, 64, 71, 76, 87, 95, 87, 84],\n",
       "  [11, 18, 35, 54, 65, 69, 73, 84, 84, 89],\n",
       "  [9, 17, 32, 46, 53, 61, 74, 68, 74, 80],\n",
       "  [10, 15, 28, 34, 52, 60, 64, 73, 77, 80],\n",
       "  [10, 14, 23, 36, 47, 48, 53, 66, 66, 70]],\n",
       " [[20, 59, 60, 52, 56, 47, 44, 59, 57, 63],\n",
       "  [12, 64, 63, 54, 52, 59, 53, 66, 57, 76],\n",
       "  [11, 56, 65, 57, 61, 61, 58, 70, 65, 63],\n",
       "  [11, 61, 78, 86, 83, 82, 88, 63, 73, 74],\n",
       "  [10, 33, 64, 82, 91, 90, 85, 82, 91, 78],\n",
       "  [10, 25, 51, 68, 76, 85, 88, 87, 91, 80],\n",
       "  [9, 21, 36, 58, 70, 76, 89, 86, 83, 93],\n",
       "  [10, 16, 33, 48, 55, 74, 72, 83, 80, 93],\n",
       "  [11, 16, 29, 42, 52, 59, 68, 75, 82, 80],\n",
       "  [9, 15, 24, 35, 47, 48, 58, 66, 67, 75]],\n",
       " [[20, 48, 48, 55, 61, 62, 60, 56, 53, 57],\n",
       "  [13, 57, 65, 61, 63, 45, 54, 64, 62, 65],\n",
       "  [11, 49, 55, 50, 57, 70, 59, 63, 70, 76],\n",
       "  [10, 77, 71, 70, 75, 71, 74, 71, 69, 72],\n",
       "  [11, 35, 84, 91, 88, 73, 69, 75, 78, 79],\n",
       "  [10, 27, 49, 74, 82, 81, 94, 87, 81, 88],\n",
       "  [10, 20, 47, 63, 68, 83, 81, 92, 83, 77],\n",
       "  [10, 20, 35, 48, 67, 72, 86, 77, 90, 88],\n",
       "  [11, 16, 28, 37, 56, 67, 72, 80, 85, 79],\n",
       "  [10, 16, 27, 39, 44, 55, 66, 63, 79, 80]],\n",
       " [[21, 57, 54, 60, 66, 48, 57, 52, 56, 51],\n",
       "  [13, 59, 60, 46, 60, 71, 53, 49, 66, 59],\n",
       "  [10, 66, 62, 59, 43, 58, 64, 57, 58, 64],\n",
       "  [12, 59, 58, 67, 61, 64, 55, 65, 68, 62],\n",
       "  [10, 46, 81, 72, 79, 76, 70, 81, 70, 78],\n",
       "  [12, 25, 49, 80, 78, 93, 76, 87, 88, 85],\n",
       "  [9, 21, 44, 62, 81, 81, 91, 92, 82, 91],\n",
       "  [9, 16, 37, 50, 61, 73, 84, 92, 95, 97],\n",
       "  [11, 16, 29, 40, 54, 71, 75, 80, 82, 85],\n",
       "  [10, 15, 26, 39, 51, 59, 70, 70, 84, 83]],\n",
       " [[21, 56, 54, 49, 59, 60, 50, 54, 53, 54],\n",
       "  [12, 67, 50, 58, 62, 65, 51, 56, 60, 46],\n",
       "  [11, 49, 50, 70, 55, 55, 56, 52, 56, 54],\n",
       "  [11, 51, 61, 53, 68, 66, 66, 57, 69, 62],\n",
       "  [11, 43, 73, 79, 59, 67, 77, 70, 66, 68],\n",
       "  [10, 33, 61, 87, 86, 87, 87, 85, 77, 80],\n",
       "  [11, 21, 51, 74, 79, 96, 85, 86, 79, 91],\n",
       "  [10, 20, 37, 54, 71, 77, 86, 86, 72, 85],\n",
       "  [11, 17, 31, 46, 61, 77, 76, 84, 79, 84],\n",
       "  [10, 15, 25, 40, 54, 58, 73, 73, 83, 76]],\n",
       " [[21, 65, 52, 59, 52, 58, 59, 51, 52, 52],\n",
       "  [13, 48, 61, 68, 39, 55, 56, 58, 61, 54],\n",
       "  [11, 52, 68, 53, 55, 52, 59, 48, 63, 51],\n",
       "  [11, 48, 53, 64, 65, 58, 51, 56, 61, 63],\n",
       "  [11, 44, 56, 59, 70, 57, 69, 63, 67, 67],\n",
       "  [10, 32, 65, 80, 81, 71, 69, 65, 63, 72],\n",
       "  [10, 20, 51, 77, 88, 84, 90, 90, 84, 76],\n",
       "  [10, 18, 39, 54, 72, 81, 93, 89, 84, 83],\n",
       "  [10, 17, 30, 47, 68, 79, 77, 84, 83, 90],\n",
       "  [11, 16, 32, 45, 54, 63, 75, 83, 81, 88]]]"
      ]
     },
     "execution_count": 103,
     "metadata": {},
     "output_type": "execute_result"
    }
   ],
   "source": [
    "OPT_arr9"
   ]
  },
  {
   "cell_type": "code",
   "execution_count": null,
   "id": "8ecea5b0-ad87-465a-9ce4-11c03e938fb6",
   "metadata": {},
   "outputs": [],
   "source": []
  }
 ],
 "metadata": {
  "kernelspec": {
   "display_name": "Python 3 (ipykernel)",
   "language": "python",
   "name": "python3"
  },
  "language_info": {
   "codemirror_mode": {
    "name": "ipython",
    "version": 3
   },
   "file_extension": ".py",
   "mimetype": "text/x-python",
   "name": "python",
   "nbconvert_exporter": "python",
   "pygments_lexer": "ipython3",
   "version": "3.8.9"
  }
 },
 "nbformat": 4,
 "nbformat_minor": 5
}
