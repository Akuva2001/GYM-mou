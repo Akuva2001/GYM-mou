{
 "cells": [
  {
   "cell_type": "markdown",
   "id": "b78597b5",
   "metadata": {},
   "source": [
    "# Optimal control course project\n",
    "# Solving the Cart-pole-v1 problem\n",
    "\n",
    "by Artem Petrov and Ivan Kudriakov\n",
    "\n",
    "\n"
   ]
  },
  {
   "cell_type": "markdown",
   "id": "31d862b5",
   "metadata": {},
   "source": [
    "# Mathematical model\n",
    "\n",
    "The environment simulation of Cart-pole-v1 is performed according to the model, described here: https://coneural.org/florian/papers/05_cart_pole.pdf\n",
    "\n",
    "([Proof from the code of Cart-Pole-v1](https://github.com/openai/gym/blob/2dddaf722acccfd0412d745890c40dcd972586d5/gym/envs/classic_control/cartpole.py#L126))\n",
    "\n",
    "Interested reader who want to check out the whole inference of the following equations may want to read [the original source](https://coneural.org/florian/papers/05_cart_pole.pdf)\n",
    "\n",
    "Here, I will provide the brief explanation of the model\n",
    "\n",
    "<img src=\"presentation_media/forces_model.png\" alt=\"drawing\" width=\"500\"/>"
   ]
  },
  {
   "cell_type": "markdown",
   "id": "b0c3b289",
   "metadata": {},
   "source": [
    "<!-- Here $G_c$ and $G_p$ are the forces of gravity acting on cart and pole respectively.\n",
    "\n",
    "Here $N_c$ - reaction force and $F_f$ - friction force between the cart and the rail -->\n",
    "\n",
    "Here are the parameters of the model:\n",
    "\n",
    "$m_c$ - the mass of the cart \n",
    "\n",
    "$m_p$ - the mass of the pole \n",
    "\n",
    "$l$ - half-length of the pole\n",
    "\n",
    "Original model also considers the friction forces, however in our model there are no friction.\n",
    "\n",
    "<!-- \n",
    "$\\mu_c$ - friction coefficient between the cart and the rail\n",
    "\n",
    "$\\mu_p$ - friction coefficient between the cart and the pole\n",
    "\n",
    "Side note: the initial model assumes Lubricated friction between the pole and the cart which is somewhat counterintuitive. -->\n",
    "\n",
    "Form the frictionless Newton equations the following  movement equations can be derived:\n",
    "\n",
    "$$\n",
    "\\ddot{\\theta} = \\frac{g \\sin \\theta + \\cos \\theta \\left( \\frac{- F - m_p l \\dot{\\theta}^2\\sin \\theta}{m_c + m+p} \\right)}\n",
    "{l\\left(\\frac{4}{3} - \\frac{m_p \\cos ^2 \\theta}{m_c + m_p}\\right)}\n",
    "\\label{eq:theta} \\tag{1}\n",
    "$$\n",
    "\n",
    "$$\n",
    "\\ddot{x} = \\frac{F + m_p l(\\dot{\\theta}^2 \\sin \\theta - \\ddot{\\theta}\\cos\\theta)}\n",
    "{m_c + m_p}\n",
    "\\label{eq:x} \\tag{2}\n",
    "$$\n",
    "\n",
    "Where $F = \\pm F_0$ - horizontal force applied to the cart by the agent\n"
   ]
  },
  {
   "cell_type": "markdown",
   "id": "7aadd8e8",
   "metadata": {},
   "source": [
    "Now, let's pose the problem in terms of the optimal control theory.\n",
    "\n",
    "Let $\\mathbf{q} = (x, \\dot{x}, \\theta, \\dot{\\theta})^T$\n",
    "\n",
    "$F = u F_0$, where $u \\in \\{-1, +1\\}$\n",
    "\n",
    "Then,\n",
    "\n",
    "$$\\dot{q} =  $$\n",
    "\n",
    "The goal is to keep the pole upright for the longest time. \n",
    "\n",
    "This suggests the usage of the following simple functional:\n",
    "\n",
    "$$ J = \\int\\limits_{0}^{\\infty} \\theta^2 dt \\rightarrow \\min $$ \n",
    "\n",
    "However, we must consider the fact, that the simulation will stop if one of the following conditions is reached:\n",
    "\n",
    "- $|\\theta| > 12$&deg;  (which contradicts the [frontpage](https://gym.openai.com/envs/CartPole-v1/), but is consistant with the [actual code](https://github.com/openai/gym/blob/2dddaf722acccfd0412d745890c40dcd972586d5/gym/envs/classic_control/cartpole.py#L90))\n",
    "\n",
    "- $|x| > 2.4$\n",
    "\n",
    "- $ t > 500\\tau$, where $\\tau = 0.02$sec - is the length of one episode of simulation\n",
    "\n",
    "\n",
    "\n",
    "This conditions can be formulated as the restriction on the trajectory:\n",
    "\n",
    "$h_1("
   ]
  },
  {
   "cell_type": "code",
   "execution_count": null,
   "id": "659e1397",
   "metadata": {},
   "outputs": [],
   "source": []
  },
  {
   "cell_type": "code",
   "execution_count": null,
   "id": "ec8273c5",
   "metadata": {},
   "outputs": [],
   "source": []
  },
  {
   "cell_type": "code",
   "execution_count": null,
   "id": "02f8e0d5",
   "metadata": {},
   "outputs": [],
   "source": []
  },
  {
   "cell_type": "code",
   "execution_count": null,
   "id": "94416488",
   "metadata": {},
   "outputs": [],
   "source": []
  },
  {
   "cell_type": "code",
   "execution_count": null,
   "id": "620d4f07",
   "metadata": {},
   "outputs": [],
   "source": []
  },
  {
   "cell_type": "code",
   "execution_count": null,
   "id": "fbff6f96",
   "metadata": {},
   "outputs": [],
   "source": []
  }
 ],
 "metadata": {
  "kernelspec": {
   "display_name": "Python 3",
   "language": "python",
   "name": "python3"
  },
  "language_info": {
   "codemirror_mode": {
    "name": "ipython",
    "version": 3
   },
   "file_extension": ".py",
   "mimetype": "text/x-python",
   "name": "python",
   "nbconvert_exporter": "python",
   "pygments_lexer": "ipython3",
   "version": "3.7.6"
  }
 },
 "nbformat": 4,
 "nbformat_minor": 5
}
