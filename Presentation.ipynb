{
 "cells": [
  {
   "cell_type": "markdown",
   "id": "fce8564b",
   "metadata": {},
   "source": [
    "# Optimal control course project\n",
    "# Solving the Cart-pole-v1 problem\n",
    "\n",
    "by Artem Petrov and Ivan Kudriakov\n",
    "\n",
    "\n"
   ]
  },
  {
   "cell_type": "markdown",
   "id": "927a17f4",
   "metadata": {},
   "source": [
    "# Mathematical model\n",
    "\n",
    "The environment simulation of Cart-pole-v1 is performed according to the model, described here: https://coneural.org/florian/papers/05_cart_pole.pdf\n",
    "\n",
    "([Proof](https://github.com/openai/gym/blob/2dddaf722acccfd0412d745890c40dcd972586d5/gym/envs/classic_control/cartpole.py#L126))\n",
    "\n",
    "Interested reader may want to check out the whole inference of the following equations may want to read [the original source](https://coneural.org/florian/papers/05_cart_pole.pdf)\n",
    "\n",
    "Here, I will provide the brief explanation of the model\n",
    "\n",
    "<img src=\"presentation_media/forces_model.png\" alt=\"drawing\" width=\"500\"/>"
   ]
  },
  {
   "cell_type": "markdown",
   "id": "74b00353",
   "metadata": {},
   "source": [
    "<!-- Here $G_c$ and $G_p$ are the forces of gravity acting on cart and pole respectively.\n",
    "\n",
    "Here $N_c$ - reaction force and $F_f$ - friction force between the cart and the rail -->\n",
    "\n",
    "Here are the parameters of the model:\n",
    "\n",
    "$m_c$ - the mass of the cart \n",
    "\n",
    "$m_p$ - the mass of the pole \n",
    "\n",
    "$l$ - half-length of the pole\n",
    "\n",
    "Original model also considers the friction forces, however in our model there are no friction.\n",
    "\n",
    "<!-- \n",
    "$\\mu_c$ - friction coefficient between the cart and the rail\n",
    "\n",
    "$\\mu_p$ - friction coefficient between the cart and the pole\n",
    "\n",
    "Side note: the initial model assumes Lubricated friction between the pole and the cart which is somewhat counterintuitive. -->\n",
    "\n",
    "Form the frictionless Newton equations the following  movement equations can be derived:\n",
    "\n",
    "$$\n",
    "\\ddot{\\theta} = \\frac{g \\sin \\theta + \\cos \\theta \\left( \\frac{- F - m_p l \\dot{\\theta}^2\\sin \\theta}{m_c + m+p} \\right)}\n",
    "{l\\left(\\frac{4}{3} - \\frac{m_p \\cos ^2 \\theta}{m_c + m_p}\\right)}\n",
    "\\label{eq:theta} \\tag{1}\n",
    "$$\n",
    "\n",
    "$$\n",
    "\\ddot{x} = \\frac{F + m_p l(\\dot{\\theta}^2 \\sin \\theta - \\ddot{\\theta}\\cos\\theta)}\n",
    "{m_c + m_p}\n",
    "\\label{eq:x} \\tag{2}\n",
    "$$\n",
    "\n",
    "\n"
   ]
  },
  {
   "cell_type": "code",
   "execution_count": null,
   "id": "1e482aca",
   "metadata": {},
   "outputs": [],
   "source": []
  },
  {
   "cell_type": "code",
   "execution_count": null,
   "id": "3f0b6232",
   "metadata": {},
   "outputs": [],
   "source": []
  },
  {
   "cell_type": "code",
   "execution_count": null,
   "id": "774d694d",
   "metadata": {},
   "outputs": [],
   "source": []
  },
  {
   "cell_type": "code",
   "execution_count": null,
   "id": "ad9d340b",
   "metadata": {},
   "outputs": [],
   "source": []
  },
  {
   "cell_type": "code",
   "execution_count": null,
   "id": "10350c17",
   "metadata": {},
   "outputs": [],
   "source": []
  },
  {
   "cell_type": "code",
   "execution_count": null,
   "id": "d9f59e1c",
   "metadata": {},
   "outputs": [],
   "source": []
  },
  {
   "cell_type": "code",
   "execution_count": null,
   "id": "f9a5cc60",
   "metadata": {},
   "outputs": [],
   "source": []
  }
 ],
 "metadata": {
  "kernelspec": {
   "display_name": "Python 3",
   "language": "python",
   "name": "python3"
  },
  "language_info": {
   "codemirror_mode": {
    "name": "ipython",
    "version": 3
   },
   "file_extension": ".py",
   "mimetype": "text/x-python",
   "name": "python",
   "nbconvert_exporter": "python",
   "pygments_lexer": "ipython3",
   "version": "3.7.6"
  }
 },
 "nbformat": 4,
 "nbformat_minor": 5
}
